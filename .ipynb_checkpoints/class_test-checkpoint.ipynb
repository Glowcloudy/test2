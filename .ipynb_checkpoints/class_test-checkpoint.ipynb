{
 "cells": [
  {
   "cell_type": "markdown",
   "id": "22783183-6997-4a91-962b-917544dd3b45",
   "metadata": {},
   "source": [
    "### **문제 1: 클래스 속성, 인스턴스 속성 테스트**\n",
    "\n",
    "다람쥐는 이직 준비를 위해 자기소개서를 작성해야 합니다. `Squirrel`이라는 클래스를 만들어 다람쥐의 기본 정보를 설정하세요.\n",
    "\n",
    "1. 클래스 속성 `species`를 설정하여 \"다람쥐\"로 초기화하세요.\n",
    "2. 생성자를 통해 인스턴스 속성 `name`과 `current_job`을 설정하세요.\n",
    "3. 메서드 `introduce`를 만들어 이름과 현재 직업을 소개하는 문자열을 반환하세요.\n",
    "4. 다른 인스턴스를 생성해도 `species`는 공유되지만, `name`과 `current_job`은 서로 독립적임을 확인하세요."
   ]
  },
  {
   "cell_type": "code",
   "execution_count": 28,
   "id": "13a3f0ca-cf23-4bd1-8572-6bd18aeee577",
   "metadata": {},
   "outputs": [],
   "source": [
    "class Squirrel:\n",
    "    species = \"다람쥐\"\n",
    "\n",
    "    def __init__(self, name, current_job):\n",
    "        self.name = name\n",
    "        self.current_job = current_job\n",
    "\n",
    "    def introduce(self):\n",
    "        print(f'내 이름은 {self.name}이고, 직업은{self.current_job}입니다.')"
   ]
  },
  {
   "cell_type": "code",
   "execution_count": 32,
   "id": "2c624780-eb9c-4e34-8fc6-6c0d240cf1e6",
   "metadata": {},
   "outputs": [
    {
     "name": "stdout",
     "output_type": "stream",
     "text": [
      "내 이름은 다람쥐이고, 직업은개발자입니다.\n"
     ]
    }
   ],
   "source": [
    "itd = Squirrel('다람쥐', '개발자')\n",
    "\n",
    "itd.introduce()"
   ]
  },
  {
   "cell_type": "markdown",
   "id": "f99fe4cd-9d4b-42a8-a31c-47fc65f25960",
   "metadata": {},
   "source": [
    "### **문제 2: 클래스 속성과 인스턴스 속성의 차이**\n",
    "\n",
    "다람쥐는 이직 준비를 하며 다양한 직업 스킬을 학습 중입니다. 클래스 속성과 인스턴스 속성의 차이를 확인하세요.\n",
    "\n",
    "1. `Character` 클래스를 생성하세요.\n",
    "2. 클래스 속성 `skills`를 정의하여 빈 리스트로 초기화하세요.\n",
    "3. 생성자에서 인스턴스 속성 `skills`를 별도로 초기화하세요.\n",
    "4. `add_skill` 메서드에서 클래스 속성이 아닌 인스턴스 속성에 스킬을 추가하도록 수정하세요."
   ]
  },
  {
   "cell_type": "code",
   "execution_count": 40,
   "id": "d5335f4d-0922-4e99-a05c-234ae33f4b89",
   "metadata": {},
   "outputs": [],
   "source": [
    "class Character:\n",
    "    skills = []\n",
    "\n",
    "    def diff(self):\n",
    "        self.skills = ''\n",
    "\n",
    "    def add_skill(self):\n",
    "        ##"
   ]
  },
  {
   "cell_type": "code",
   "execution_count": 44,
   "id": "da313ced-4a96-423e-baed-05b63654004f",
   "metadata": {},
   "outputs": [
    {
     "name": "stdout",
     "output_type": "stream",
     "text": [
      "['회전회오리', '회전회오리', '베기', '회전회오리', '베기', '회전회오리', '베기']\n"
     ]
    }
   ],
   "source": [
    "num = Character()\n",
    "num.skills.append(\"회전회오리\")\n",
    "num.skills.append(\"베기\")\n",
    "\n",
    "print(num.skills)"
   ]
  },
  {
   "cell_type": "markdown",
   "id": "52a03965-c156-42d8-b50c-b181e4d0c012",
   "metadata": {},
   "source": [
    "### **문제 3: 인스턴스 속성과 클래스 속성의 우선순위**\n",
    "\n",
    "다람쥐는 이직을 위해 별명을 여러 개 사용합니다. 클래스 속성으로 `nickname`을 설정하지만, 각 인스턴스마다 별명을 변경할 수 있습니다.\n",
    "\n",
    "1. `Character` 클래스에 클래스 속성 `nickname`을 설정하세요.\n",
    "2. 생성자에서 인스턴스 속성 `nickname`을 설정하세요.\n",
    "3. 클래스 속성과 인스턴스 속성이 충돌할 때, 인스턴스 속성이 우선됨을 확인하세요."
   ]
  },
  {
   "cell_type": "code",
   "execution_count": null,
   "id": "48930979-c437-4c35-a9a8-bc2f8395c191",
   "metadata": {},
   "outputs": [],
   "source": [
    "class Character:\n",
    "    nickname = ''\n",
    "\n",
    "    def __init__(self):\n",
    "        self.nickname = ''"
   ]
  },
  {
   "cell_type": "code",
   "execution_count": null,
   "id": "1df10e3a-435d-4f3b-81c7-7797bb74ad5c",
   "metadata": {},
   "outputs": [],
   "source": []
  },
  {
   "cell_type": "markdown",
   "id": "1c6ef5a7-15e5-41ec-b92b-33aa705a0088",
   "metadata": {},
   "source": [
    "### **문제 4: 네임스페이스 테스트 - 전역과 로컬**\n",
    "\n",
    "다람쥐는 이직 준비 도구를 사용하며, 전역 변수와 로컬 변수를 관리합니다. `namespace_test` 함수를 작성해 네임스페이스를 테스트하세요.\n",
    "\n",
    "1. 전역 변수 `tool`을 \"연필\"로 설정하세요.\n",
    "2. 함수 `namespace_test` 내부에 로컬 변수 `local_tool`을 \"키보드\"로 설정하고, `global` 키워드를 사용해 전역 변수를 \"펜\"으로 수정하세요.\n",
    "3. 함수 내부에서 로컬 변수와 전역 변수의 값을 출력하세요."
   ]
  },
  {
   "cell_type": "code",
   "execution_count": 51,
   "id": "91e64356-2ea1-4e22-b226-de73132befc5",
   "metadata": {},
   "outputs": [
    {
     "name": "stdout",
     "output_type": "stream",
     "text": [
      "연필\n",
      "펜\n"
     ]
    }
   ],
   "source": [
    "tool = \"연필\"\n",
    "\n",
    "def namespace_test():\n",
    "    global tool\n",
    "    tool = \"펜\"\n",
    "    local_tool = \"키보드\"\n",
    "\n",
    "print(tool)\n",
    "namespace_test()\n",
    "print(tool)"
   ]
  },
  {
   "cell_type": "markdown",
   "id": "fe3cf56b-b68d-4b4f-b374-9c9da0b9ebb1",
   "metadata": {},
   "source": [
    "### **문제 5: 네임스페이스 테스트 - 클래스와 인스턴스**\n",
    "\n",
    "다람쥐는 이직 준비 중 클래스를 통해 도구를 관리합니다. `Toolbox` 클래스를 만들어 네임스페이스를 테스트하세요.\n",
    "\n",
    "1. 클래스 속성 `tools`를 [\"노트북\", \"책상\"]으로 초기화하세요.\n",
    "2. 생성자를 통해 인스턴스 속성 `tools`를 설정하고, 객체마다 다른 도구를 가질 수 있도록 설정하세요.\n",
    "3. `add_tool` 메서드를 만들어 클래스 속성에 새 도구를 추가하세요."
   ]
  },
  {
   "cell_type": "code",
   "execution_count": 53,
   "id": "ba292513-1fa2-4dfe-abd1-9622190ec7f4",
   "metadata": {},
   "outputs": [
    {
     "ename": "TypeError",
     "evalue": "Name_space_test.__init__() missing 2 required positional arguments: 'notbook' and 'desk'",
     "output_type": "error",
     "traceback": [
      "\u001b[31m---------------------------------------------------------------------------\u001b[39m",
      "\u001b[31mTypeError\u001b[39m                                 Traceback (most recent call last)",
      "\u001b[36mCell\u001b[39m\u001b[36m \u001b[39m\u001b[32mIn[53]\u001b[39m\u001b[32m, line 12\u001b[39m\n\u001b[32m      9\u001b[39m     \u001b[38;5;28;01mdef\u001b[39;00m\u001b[38;5;250m \u001b[39m\u001b[34madd_tool\u001b[39m(\u001b[38;5;28mself\u001b[39m):\n\u001b[32m     10\u001b[39m         tools.append(\u001b[33m\"\u001b[39m\u001b[33m연필\u001b[39m\u001b[33m\"\u001b[39m)\n\u001b[32m---> \u001b[39m\u001b[32m12\u001b[39m name = \u001b[43mName_space_test\u001b[49m\u001b[43m(\u001b[49m\u001b[43m)\u001b[49m\n\u001b[32m     14\u001b[39m name.tools.append(\u001b[33m\"\u001b[39m\u001b[33m지우개\u001b[39m\u001b[33m\"\u001b[39m)\n\u001b[32m     15\u001b[39m \u001b[38;5;28mprint\u001b[39m(name)\n",
      "\u001b[31mTypeError\u001b[39m: Name_space_test.__init__() missing 2 required positional arguments: 'notbook' and 'desk'"
     ]
    }
   ],
   "source": [
    "class Name_space_test:\n",
    "    tools = [\"노트북\", \"책상\"]\n",
    "\n",
    "    def __init__(self, notbook, desk):\n",
    "        self.tools = \"\"\n",
    "        self.notbook = notbook\n",
    "        self.desk = desk\n",
    "\n",
    "    def add_tool(self):\n",
    "        tools.append(\"연필\")\n",
    "\n",
    "name = Name_space_test()\n",
    "\n",
    "name.tools.append(\"지우개\")\n",
    "print(name)"
   ]
  },
  {
   "cell_type": "code",
   "execution_count": null,
   "id": "66de2822-8bfc-4006-a963-790ed9d2e4a9",
   "metadata": {},
   "outputs": [],
   "source": [
    "name = name"
   ]
  },
  {
   "cell_type": "markdown",
   "id": "3c373d34-5ad4-4963-8f6c-c4284a7ed814",
   "metadata": {},
   "source": [
    "### **문제 6: 네임스페이스 테스트 - nonlocal**\n",
    "\n",
    "다람쥐는 이직 준비 중 추가적인 정보가 필요합니다. 중첩 함수와 `nonlocal` 키워드를 사용해 바깥 함수의 변수를 수정하세요.\n",
    "\n",
    "1. 함수 `nested_function`을 작성하세요.\n",
    "2. 바깥 함수의 변수 `status`를 \"작성 중\"으로 초기화하세요.\n",
    "3. 중첩 함수에서 `status`를 \"완료\"로 수정하세요."
   ]
  },
  {
   "cell_type": "code",
   "execution_count": 52,
   "id": "d3f1efa9-4991-452a-860d-b101f37ab58f",
   "metadata": {},
   "outputs": [
    {
     "name": "stdout",
     "output_type": "stream",
     "text": [
      "완료\n"
     ]
    }
   ],
   "source": [
    "\n",
    "\n",
    "def nested_function():\n",
    "    status = \"작성중\"\n",
    "\n",
    "    def inner_function():\n",
    "        nonlocal status\n",
    "        status = \"완료\"\n",
    "\n",
    "    inner_function()\n",
    "    print(status)\n",
    "\n",
    "nested_function()"
   ]
  },
  {
   "cell_type": "code",
   "execution_count": null,
   "id": "890f8e5f-3f4b-42fa-bc4b-1386dfccb4fa",
   "metadata": {},
   "outputs": [],
   "source": []
  },
  {
   "cell_type": "code",
   "execution_count": null,
   "id": "bd09e958-3129-49a8-a33d-4c6b35627def",
   "metadata": {},
   "outputs": [],
   "source": []
  }
 ],
 "metadata": {
  "kernelspec": {
   "display_name": "pystudy_env",
   "language": "python",
   "name": "pystudy_env"
  },
  "language_info": {
   "codemirror_mode": {
    "name": "ipython",
    "version": 3
   },
   "file_extension": ".py",
   "mimetype": "text/x-python",
   "name": "python",
   "nbconvert_exporter": "python",
   "pygments_lexer": "ipython3",
   "version": "3.12.11"
  }
 },
 "nbformat": 4,
 "nbformat_minor": 5
}

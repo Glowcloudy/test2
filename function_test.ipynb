{
 "cells": [
  {
   "cell_type": "markdown",
   "id": "d80b5221-3ebe-4b75-b1b0-a015107a1c65",
   "metadata": {},
   "source": [
    "## **문제 1: 자기소개 하기**\n",
    "\n",
    "**\"다람쥐는 IT 회사 첫 출근 날, 자기소개를 준비했다.\"**\n",
    "\n",
    "1. `introduce()`라는 함수를 만들어 **\"안녕하세요, 저는 다람쥐 신입사원입니다!\"**라는 메시지를 출력하세요.\n",
    "2. 함수를 호출하여 다람쥐의 자기소개를 출력하세요."
   ]
  },
  {
   "cell_type": "code",
   "execution_count": 1,
   "id": "6e60d241-bf2f-4757-8976-41dc3e4f39e3",
   "metadata": {},
   "outputs": [
    {
     "name": "stdout",
     "output_type": "stream",
     "text": [
      "안녕하세요, 저는 다람쥐 신입사원입니다!\n"
     ]
    }
   ],
   "source": [
    "def introduce():\n",
    "    print(\"안녕하세요, 저는 다람쥐 신입사원입니다!\")\n",
    "\n",
    "introduce()"
   ]
  },
  {
   "cell_type": "markdown",
   "id": "f14bc082-34df-4a9e-868d-6d221db0af3d",
   "metadata": {},
   "source": [
    "## **문제 2: 출근 체크하기**\n",
    "\n",
    "**\"다람쥐는 출근할 때 출근부에 이름을 적어야 한다.\"**\n",
    "\n",
    "1. `check_in(name)`이라는 함수를 만들어 매개변수 `name`을 입력받아 다음과 같이 출력하세요.\n",
    "    - **\"[이름]님, 출근 체크 완료!\"**\n",
    "2. 함수를 호출해 **\"다람쥐\"**를 출근 체크하세요."
   ]
  },
  {
   "cell_type": "code",
   "execution_count": 2,
   "id": "932cc94c-caf4-4459-8ecb-4ec2b04bd960",
   "metadata": {},
   "outputs": [
    {
     "name": "stdout",
     "output_type": "stream",
     "text": [
      "길동님, 출근 체크 완료!\n"
     ]
    }
   ],
   "source": [
    "def check_in(name):\n",
    "    print(f'{name}님, 출근 체크 완료!')\n",
    "\n",
    "check_in('길동')"
   ]
  },
  {
   "cell_type": "markdown",
   "id": "5b463f63-a9bd-4344-acc7-0c0b2bda3c01",
   "metadata": {},
   "source": [
    "## **문제 3: 업무 시간 계산하기**\n",
    "\n",
    "**\"다람쥐는 오늘 근무한 시간을 계산하고 싶다.\"**\n",
    "\n",
    "1. `work_hours(start, end)`라는 함수를 만들어 매개변수 `start`(출근 시간)와 `end`(퇴근 시간)를 입력받아 근무 시간을 계산하세요.\n",
    "    - 근무 시간 = `end - start`\n",
    "2. 반환된 근무 시간을 출력하세요.\n",
    "    - 출력 예시: **\"오늘 근무한 시간은 [근무 시간]시간입니다.\"**"
   ]
  },
  {
   "cell_type": "code",
   "execution_count": 3,
   "id": "132060b2-dd73-43eb-9b6e-b6e17f9bf303",
   "metadata": {},
   "outputs": [
    {
     "name": "stdout",
     "output_type": "stream",
     "text": [
      "오늘 근무한 시간은 9시간입니다.\n"
     ]
    }
   ],
   "source": [
    "def work_hours(start, end):\n",
    "    work = end- start\n",
    "    print(f'오늘 근무한 시간은 {work}시간입니다.')\n",
    "\n",
    "work_hours(10, 19)"
   ]
  },
  {
   "cell_type": "markdown",
   "id": "2dd63730-7e96-467b-8006-6bb72733b639",
   "metadata": {},
   "source": [
    "## **문제 4: 점심 메뉴 추천**\n",
    "\n",
    "**\"점심시간, 다람쥐는 팀원들에게 점심 메뉴를 추천해준다.\"**\n",
    "\n",
    "1. `recommend_menu(*menus)`라는 함수를 만들어 여러 개의 점심 메뉴를 매개변수로 전달받으세요.\n",
    "2. 랜덤하게 하나의 메뉴를 선택하고 반환하세요.\n",
    "    - 출력 예시: **\"오늘의 점심 메뉴는 [선택된 메뉴]입니다!\"**\n",
    "    - 힌트: `random.choice()`를 사용하면 랜덤 선택이 가능합니다."
   ]
  },
  {
   "cell_type": "code",
   "execution_count": 75,
   "id": "a07e93aa-68ab-493c-b526-d43e0b02c522",
   "metadata": {},
   "outputs": [],
   "source": [
    "import random \n",
    "def recommend_menu(*menu):\n",
    "    print(f'오늘의 점심 메뉴는 {random.choice(menu)}입니다.')"
   ]
  },
  {
   "cell_type": "code",
   "execution_count": 76,
   "id": "7917cb95-d9bb-49a1-8cc6-d1f140b5905c",
   "metadata": {},
   "outputs": [
    {
     "name": "stdout",
     "output_type": "stream",
     "text": [
      "오늘의 점심 메뉴는 된장찌개입니다.\n"
     ]
    }
   ],
   "source": [
    "recommend_menu('샐러드', '삼겹살', '된장찌개', '김치찌개')"
   ]
  },
  {
   "cell_type": "markdown",
   "id": "d23f8dab-cdf8-4307-b97f-91f9170af62e",
   "metadata": {},
   "source": [
    "## **문제 5: 오후 커피 마시기**\n",
    "\n",
    "**\"오후에 졸린 다람쥐는 커피를 마시려고 한다.\"**\n",
    "\n",
    "1. `coffee_time()`이라는 함수를 만들어 다음과 같은 문자열을 반환하세요.\n",
    "    - **\"오후 3시입니다. 커피 한 잔 하세요!\"**\n",
    "2. 반환된 문자열을 출력하세요."
   ]
  },
  {
   "cell_type": "code",
   "execution_count": 13,
   "id": "26fd1132-63bf-4aa4-a303-3dcfb6844126",
   "metadata": {},
   "outputs": [
    {
     "name": "stdout",
     "output_type": "stream",
     "text": [
      "오후 3시입니다. 커피 한 잔 하세요!\n"
     ]
    }
   ],
   "source": [
    "def coffee_time():\n",
    "    return print(\"오후 3시입니다. 커피 한 잔 하세요!\")\n",
    "\n",
    "coffee_time()"
   ]
  },
  {
   "cell_type": "markdown",
   "id": "6b7d8869-5a33-4c74-9c19-cf876bcd8747",
   "metadata": {},
   "source": [
    "## **문제 6: 업무 성과 분석하기**\n",
    "\n",
    "**\"다람쥐는 오늘의 업무 성과를 보고해야 한다.\"**\n",
    "\n",
    "1. `work_report(tasks_done)`이라는 함수를 만들어 오늘 처리한 업무 수를 매개변수로 받으세요.\n",
    "2. 함수는 다음 두 값을 반환합니다.\n",
    "    - `tasks_done`: 처리한 업무 수\n",
    "    - `status`: 업무 성과 평가 (10개 이상: \"우수\", 5~9개: \"보통\", 4개 이하: \"노력 필요\")\n",
    "3. 반환된 값을 사용해 다음 메시지를 출력하세요.\n",
    "    - **\"오늘 처리한 업무는 [업무 수]개입니다. 성과 평가: [평가]\"**"
   ]
  },
  {
   "cell_type": "code",
   "execution_count": 68,
   "id": "929fadf4-3b4a-4380-8f94-707aee48d3ba",
   "metadata": {},
   "outputs": [],
   "source": [
    "def work_report(tasks_done):\n",
    "    # 업무 수 == 성과 \n",
    "    status = tasks_done\n",
    "\n",
    "    if status >= 10:\n",
    "        sts = \"우수\"\n",
    "    elif status >= 5:\n",
    "        sts =\"보통\"\n",
    "    else:\n",
    "        sts =\"노력 필요\"\n",
    "        \n",
    "    return tasks_done, sts "
   ]
  },
  {
   "cell_type": "code",
   "execution_count": 74,
   "id": "3618f0bc-2834-4664-a249-24833479a953",
   "metadata": {},
   "outputs": [
    {
     "name": "stdout",
     "output_type": "stream",
     "text": [
      "오늘 처리한 업무는 9개 입니다. 성과 평가 : 보통\n"
     ]
    }
   ],
   "source": [
    "res1, res2 = work_report(9) # 만약 변수가 1개 이고 return값이 2개 이상이면 return값은 tuple 형태로 변수에 저장\n",
    "\n",
    "print(f'오늘 처리한 업무는 {res1}개 입니다. 성과 평가 : {res2}')"
   ]
  },
  {
   "cell_type": "markdown",
   "id": "2411cbab-2a90-4b3f-98e3-982efcb7496d",
   "metadata": {},
   "source": [
    "## **문제 7: 월급 계산 및 세금 공제**\n",
    "\n",
    "**\"다람쥐는 첫 월급을 계산하고 세금을 공제해야 한다.\"**\n",
    "\n",
    "1. `calculate_salary(base_salary, bonus)`라는 함수를 만들어 기본 월급과 보너스를 매개변수로 받으세요.\n",
    "2. 총 월급을 계산하고, 세금은 총 월급의 10%로 공제하세요.\n",
    "3. 함수는 다음 두 값을 반환합니다.\n",
    "    - `net_salary`: 실수령액 (총 월급 - 세금)\n",
    "    - `tax`: 세금 공제액\n",
    "4. 반환된 값을 사용해 다음 메시지를 출력하세요.\n",
    "    - **\"세전 월급: [총 월급]원, 세금: [세금]원, 실수령액: [실수령액]원\"**"
   ]
  },
  {
   "cell_type": "code",
   "execution_count": 84,
   "id": "4925e5cf-eb81-4498-9ca1-87fa78ae2a4e",
   "metadata": {},
   "outputs": [],
   "source": [
    "def calculate_salary(base_salary, bonus):\n",
    "    tot = base_salary + bonus\n",
    "    tax = tot / 10\n",
    "    net_salary = tot - tax\n",
    "    return tax, net_salary"
   ]
  },
  {
   "cell_type": "code",
   "execution_count": 87,
   "id": "66fb3077-e619-4335-91dd-6d07b4b960a2",
   "metadata": {},
   "outputs": [
    {
     "name": "stdout",
     "output_type": "stream",
     "text": [
      "세전 월급: [4000000.0]원, 세금:[400000.0]원, 실수령액:[3600000.0]원\n"
     ]
    }
   ],
   "source": [
    "tax, net_salary = calculate_salary(3000000, 1000000)\n",
    "print(f'세전 월급: [{net_salary + tax}]원, 세금:[{tax}]원, 실수령액:[{net_salary}]원')"
   ]
  },
  {
   "cell_type": "code",
   "execution_count": null,
   "id": "bf1fe221-d3ae-478d-a48c-bc8719d8c2fb",
   "metadata": {},
   "outputs": [],
   "source": []
  },
  {
   "cell_type": "markdown",
   "id": "f1a1ab81-9b9d-4dc2-9d25-d17e78fbca8b",
   "metadata": {},
   "source": [
    "# F1 재미 추구도를 통한 팀 추천 "
   ]
  },
  {
   "cell_type": "code",
   "execution_count": 113,
   "id": "921d2957-cc8e-4cfc-9c4d-05c3243b4a89",
   "metadata": {},
   "outputs": [],
   "source": [
    "def F1_team_reffer(fun, cham, team_rank):\n",
    "    if (fun == '상' or fun == '중상') and (cham == '상' or cham =='중상') and (team_rank == '상' or team_rank == '중상'):\n",
    "        print('''페라리:\\n 모나코 출신 르끌레르 잘생김(모나코 서킷만 강함) 별명 미끌레르 \\n 해밀턴 역대 최대 우승 8회타이 그저 경\\n 팀 라디오 웃김\\n 팀 성적: 상위권, 왕년에 잘나갔으나 최근 우승은 17년전.....\\n하지만 팀이름이 대중들이 많이 알고 있어 추천!\\n''')\n",
    "        print('''윌리엄스:\\n 스페인 출신 사인츠 잘생김\\n 알본은 프랑스 국적임n 동남아 특히 태국 인기 찌름\\n 팀게임을 하려함\\n 팀 성적: 상위권에 쪼금 부족 왕년에 아주 잘나감\\n 그때는 1980년대....\\n''')\n",
    "        print('''메르세데스:\\n 영국 출신 조지러셀 잘생겼지만 팀메이트인 이탈리아 출신 2025 데뷔한 루키 키미 안토넬리는 귀여움\\n 팀 게임 잘함 특히 조지러셀이 잘하지만 루키인 키미도 상위권을 유지할 정도로 잘함\\n 팀 성적: 상위권\\n 대중들인 친숙한 이름이지만 다른회사\\n''')\n",
    "    elif (fun == '중하' or fun == '중') and (cham == '중하' or cham == '중') and (team_rank == '중하'  or team_rank == '중'):\n",
    "        print('''레드불:\\n 2020 ~ 2024년까지 우승을 해먹던 팀\\n 네덜란드 출신 베르스타펜, 일본 출신 츠노다\\n 특징: 욕을 잘해야만 들어 갈 수 있는 팀, 베르스타펜 원맨팀\\n''')\n",
    "        print('''비자 RB:\\n 호주출신 리암 노슨 프랑스 출신 아이작 하자르 생김새는 중동 복수 국적\\n 통칭 레드불을 가기위한 계단 같은 팀 하지만 엄연히 다른팀\\n 두명의 드라이버 중위권에 머무는 실력\\n''')\n",
    "        print('''알핀:\\n 두한아 잘하자!!!\\n 하지만 팀 수석 짤리자 바로 내려간 비련의 주먹왕\\n 그자리를 꿰찬 아르헨티나 국적의 콜라핀토 루키지만흠.....\\n''')\n",
    "    elif (fun == '하' or fun == '하') and (cham == '하' or cham == '하') and (team_rank == '하'  or team_rank == '하'):\n",
    "        print('''킥 자우버:\\n 아우디가 회사를 가지고 있지만 운영은 참....\\n 돈은 왕창 붙지만 팀순위는 최악..\\n 언젠가 상위권 도약하겠지?\\n 루키 보톨레로: 나... 팀 잘못 선택한 거 같아 벗어나고 싶어\\n''')\n",
    "        print('''맥라렌:\\n아... 몇년 만이냐 드디어 영광스러운 파파야 오렌지 깃발을 들 시기가 도래했다..\\n지금까지는 앞으로 계속 될지는 모름\\n 피아스트리 잘생김\\n''')\n",
    "        print('''하스:\\n 미국 팀임 운영도 진짜 미국스럽게 운영 오로지 돈!!!\\n 여기저기서 구걸해서 차량을 만듬\\n 응? 왜 차가 안나가???\\n''')\n",
    "        print('''애스턴 마틴:\\n 캐나다 출신 랜스 스트롤: 아버지 F1드라이버가 되고 싶어요..\\n 아버지: 그래 팀을 사자! 옆에 과외선생도 붙여줄게!\\n 일타강사 우승 2번에 빛나는 페르난도 알론소\\n''')\n",
    "    "
   ]
  },
  {
   "cell_type": "code",
   "execution_count": 114,
   "id": "acbb6dd6-fdfd-4b91-8923-c4e8d8ac4923",
   "metadata": {},
   "outputs": [
    {
     "name": "stdout",
     "output_type": "stream",
     "text": [
      "P.S 이 추천은 작성자의 객관적이지 않고 오로지 주관적인 추천입니다. 여러분들이 F1이라는 스포츠에 빠져들 수 있는 하나의 매개체가 되었으면 하는 바램입니다.\n"
     ]
    },
    {
     "name": "stdin",
     "output_type": "stream",
     "text": [
      "재미 추구도, 당신이 보는 사람의 매력도 중요성, 팀 순위 중요성을 (상/중상/중/중하/하) 선택:  하 하 하\n"
     ]
    },
    {
     "name": "stdout",
     "output_type": "stream",
     "text": [
      "킥 자우버:\n",
      " 아우디가 회사를 가지고 있지만 운영은 참....\n",
      " 돈은 왕창 붙지만 팀순위는 최악..\n",
      " 언젠가 상위권 도약하겠지?\n",
      " 루키 보톨레로: 나... 팀 잘못 선택한 거 같아 벗어나고 싶어\n",
      "\n",
      "맥라렌:\n",
      "아... 몇년 만이냐 드디어 영광스러운 파파야 오렌지 깃발을 들 시기가 도래했다..\n",
      "지금까지는 앞으로 계속 될지는 모름\n",
      " 피아스트리 잘생김\n",
      "\n",
      "하스:\n",
      " 미국 팀임 운영도 진짜 미국스럽게 운영 오로지 돈!!!\n",
      " 여기저기서 구걸해서 차량을 만듬\n",
      " 응? 왜 차가 안나가???\n",
      "\n",
      "애스턴 마틴:\n",
      " 캐나다 출신 랜스 스트롤: 아버지 F1드라이버가 되고 싶어요..\n",
      " 아버지: 그래 팀을 사자! 옆에 과외선생도 붙여줄게!\n",
      " 일타강사 우승 2번에 빛나는 페르난도 알론소\n",
      "\n"
     ]
    }
   ],
   "source": [
    "print(\"P.S 이 추천은 작성자의 객관적이지 않고 오로지 주관적인 추천입니다. 여러분들이 F1이라는 스포츠에 빠져들 수 있는 하나의 매개체가 되었으면 하는 바램입니다.\")\n",
    "fun, cham, team_rank= (input(\"재미 추구도, 당신이 보는 사람의 매력도 중요성, 팀 순위 중요성을 (상/중상/중/중하/하) 선택: \").split())\n",
    "\n",
    "F1_team_reffer(fun, cham, team_rank)"
   ]
  },
  {
   "cell_type": "markdown",
   "id": "c1415003-3e40-4e5a-839b-f05e7de1330d",
   "metadata": {},
   "source": []
  },
  {
   "cell_type": "code",
   "execution_count": null,
   "id": "78c0fc7b-e37d-421e-9c3b-f57921dca8ac",
   "metadata": {},
   "outputs": [],
   "source": []
  },
  {
   "cell_type": "markdown",
   "id": "ab54d44c-d1c1-4de9-8ce7-279085085389",
   "metadata": {},
   "source": []
  }
 ],
 "metadata": {
  "kernelspec": {
   "display_name": "pystudy_env",
   "language": "python",
   "name": "pystudy_env"
  },
  "language_info": {
   "codemirror_mode": {
    "name": "ipython",
    "version": 3
   },
   "file_extension": ".py",
   "mimetype": "text/x-python",
   "name": "python",
   "nbconvert_exporter": "python",
   "pygments_lexer": "ipython3",
   "version": "3.12.11"
  }
 },
 "nbformat": 4,
 "nbformat_minor": 5
}

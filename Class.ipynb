{
 "cells": [
  {
   "cell_type": "markdown",
   "id": "3e725adc-ae59-4df6-85d8-eb974607064d",
   "metadata": {},
   "source": [
    "# 클래스"
   ]
  },
  {
   "cell_type": "markdown",
   "id": "c60ba133-652e-4199-9d15-5d48f9e2f396",
   "metadata": {},
   "source": [
    "-  클래스: 클래스 속성 + 매서드"
   ]
  },
  {
   "cell_type": "code",
   "execution_count": 16,
   "id": "22d60948-0b1c-4d55-b1d9-15334d2ca519",
   "metadata": {},
   "outputs": [],
   "source": [
    "class Student:\n",
    "    # 1. 클래스 속성\n",
    "    dream = '취업'\n",
    "    \n",
    "    # 2. 생성자 (-> 인스턴스 속성)\n",
    "    \n",
    "    # 3. 매서드\n",
    "    # 매서드는 반드시 self (객체의 주소값)을 첫 번째 파라미터로 받음\n",
    "    def study(self):\n",
    "    # def study():\n",
    "        print('매일 열심히 공부하는 17기 학생!')\n",
    "        "
   ]
  },
  {
   "cell_type": "code",
   "execution_count": 17,
   "id": "733c6d61-63b4-4c94-9edb-c2118b400b4e",
   "metadata": {},
   "outputs": [
    {
     "name": "stdout",
     "output_type": "stream",
     "text": [
      "<__main__.Student object at 0x000001B8FE096630>\n",
      "매일 열심히 공부하는 17기 학생!\n"
     ]
    }
   ],
   "source": [
    "student = Student()\n",
    "\n",
    "print(student)\n",
    "student.study()"
   ]
  },
  {
   "cell_type": "code",
   "execution_count": 19,
   "id": "f3db529c-11dc-44e0-8103-47558344ba96",
   "metadata": {},
   "outputs": [
    {
     "name": "stdout",
     "output_type": "stream",
     "text": [
      "<__main__.Student object at 0x000001B8FFBCDC70>\n",
      "취업\n"
     ]
    }
   ],
   "source": [
    "# 인스턴스 생서 시마다 다른 주소로 할당 == 새로운 인스턴스가 생성\n",
    "student2 = Student()\n",
    "\n",
    "print(student2)      # 인스턴스를 대입한 변수를 출력하면 'tpye + 주소값' 출력\n",
    "print(student2.dream) # 인스턴스를 대입한 변수에 마침표(.)를 찍고 속성명 or 함수 호출"
   ]
  },
  {
   "cell_type": "markdown",
   "id": "315d282c-f208-4e77-a42a-aa94814711bd",
   "metadata": {},
   "source": [
    "- 클래스: 클래스 속성 + 생성자 with  인스턴스 속성 + 매서드"
   ]
  },
  {
   "cell_type": "code",
   "execution_count": 31,
   "id": "03c3ef48-eb85-40bc-bacb-f035eb3a1ea2",
   "metadata": {},
   "outputs": [],
   "source": [
    "class Student:\n",
    "    # 1. 클래스 속성\n",
    "    dream = '취업'\n",
    "    \n",
    "    # 2. 생성자 (-> 인스턴스 속성)\n",
    "    def __init__(self, name, phone):\n",
    "        # print('Student 인스턴스 생성@')\n",
    "        self.name = name\n",
    "        self.phone = phone\n",
    "        # __init__() == 클래스명() 호출했을 때 호출되면서 인스턴스를 생성하는 매서드\n",
    "        # 생성자 내부에 self.변수명 == 인스턴스 속성, 개별 인스턴스가 각각 다른 값 가짐\n",
    "    \n",
    "    # 3. 매서드\n",
    "    def study(self):\n",
    "    # def study():\n",
    "        print('매일 열심히 공부하는 17기 학생!')\n",
    "        "
   ]
  },
  {
   "cell_type": "code",
   "execution_count": 39,
   "id": "5cf918ce-8d10-4c6b-9ec3-ac15ce97bd6e",
   "metadata": {},
   "outputs": [
    {
     "name": "stdout",
     "output_type": "stream",
     "text": [
      "길동 galaxy\n"
     ]
    }
   ],
   "source": [
    "student = Student('길동','galaxy')\n",
    "\n",
    "print(student.name, student.phone)"
   ]
  },
  {
   "cell_type": "markdown",
   "id": "d5fdfbba-e23c-4a8b-a366-79ed78bdd5d8",
   "metadata": {},
   "source": [
    "---------------------------------------------------------------------------"
   ]
  },
  {
   "cell_type": "markdown",
   "id": "ad2ef24f-f23c-40df-8810-469cfc56ec41",
   "metadata": {},
   "source": [
    "- 클래스 속성 vs 인스턴스 속성"
   ]
  },
  {
   "cell_type": "code",
   "execution_count": 58,
   "id": "7a0e72a1-c535-4619-9a32-420681a5e825",
   "metadata": {},
   "outputs": [],
   "source": [
    "class Student:\n",
    "    dream = ['취업']\n",
    "    name =''\n",
    "\n",
    "    def study(self):\n",
    "        print('오늘도 열심히 공부하는 17길!!!')\n",
    "\n",
    "    def introduce(self):\n",
    "        print(f'저는 {self.name}이구요. 제 꿈은 {self.dream}입니다!')\n",
    "        "
   ]
  },
  {
   "cell_type": "code",
   "execution_count": 59,
   "id": "ab420532-2e45-4def-8540-3d6027550ed2",
   "metadata": {},
   "outputs": [
    {
     "name": "stdout",
     "output_type": "stream",
     "text": [
      "저는 이구요. 제 꿈은 ['취업']입니다!\n",
      "저는 다람쥐이구요. 제 꿈은 ['취업', '만수르']입니다!\n",
      "\n",
      "\n",
      "저는 이구요. 제 꿈은 ['취업', '만수르']입니다!\n",
      "저는 토끼이구요. 제 꿈은 ['취업', '만수르', '만수무강']입니다!\n"
     ]
    }
   ],
   "source": [
    "# 하기 std1, std2의 name이 다른 경우는 class속성 name에 접근을 해서 사용하는 것이 X\n",
    "# 인스턴스 속성에 접근하기 때문에 student2에서는 name = ''접근을 하여 첫 번째 출력에서 빈 공간으로 나옴\n",
    "# 따라서 std1에서 name에 '다람쥐'를 넣은 값이 std2에서 영향을 끼치지 않\n",
    "\n",
    "student1 = Student()\n",
    "student2 = Student()\n",
    "\n",
    "student1.introduce()\n",
    "student1.name = '다람쥐'                          # std1 인스턴스의 name 공간 == 인스턴스 속성\n",
    "student1.dream.append('만수르')                   # std1 인스턴스의 dream 공간 '찾음'\n",
    "student1.introduce()     \n",
    "\n",
    "print('\\n')\n",
    "\n",
    "student2.introduce()\n",
    "student2.name = '토끼'\n",
    "student2.dream.append('만수무강')\n",
    "student2.introduce()    "
   ]
  },
  {
   "cell_type": "code",
   "execution_count": null,
   "id": "ad13a35f-77a8-4ff9-8a2e-bb212b2c0eb5",
   "metadata": {},
   "outputs": [],
   "source": []
  }
 ],
 "metadata": {
  "kernelspec": {
   "display_name": "pystudy_env",
   "language": "python",
   "name": "pystudy_env"
  },
  "language_info": {
   "codemirror_mode": {
    "name": "ipython",
    "version": 3
   },
   "file_extension": ".py",
   "mimetype": "text/x-python",
   "name": "python",
   "nbconvert_exporter": "python",
   "pygments_lexer": "ipython3",
   "version": "3.12.11"
  }
 },
 "nbformat": 4,
 "nbformat_minor": 5
}

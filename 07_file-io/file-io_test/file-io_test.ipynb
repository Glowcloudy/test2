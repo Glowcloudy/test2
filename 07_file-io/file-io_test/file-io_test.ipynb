{
 "cells": [
  {
   "cell_type": "markdown",
   "id": "0b4fdb34",
   "metadata": {},
   "source": [
    "### **문제 1: `.txt` 파일 생성 및 쓰기**\n",
    "\n",
    "다람쥐는 하루 동안 배운 내용을 기록하기 위해 일기를 작성합니다. 다음 작업을 수행하세요.\n",
    "\n",
    "1. `diary.txt` 파일을 생성하고, 다람쥐가 오늘 배운 내용을 작성하세요.\n",
    "2. 내용:\n",
    "    \n",
    "    ```\n",
    "    오늘은 파일 입출력을 배웠습니다.\n",
    "    다양한 파일 확장자와 접근 모드를 사용할 수 있다는 점이 흥미로웠습니다.\n",
    "    ```\n",
    "    \n",
    "3. 파일을 닫고 다시 열어 작성된 내용을 출력하세요."
   ]
  },
  {
   "cell_type": "code",
   "execution_count": 16,
   "id": "4a960c21",
   "metadata": {},
   "outputs": [],
   "source": [
    "f1 = open('diary.txt', 'w')\n",
    "\n",
    "work = ['오늘은 파일 입출력을 배웠습니다.\\n', '다양한 파일 확장자와 접근 모드를 사용할 수 있다는 점이 흥미로웠습니다.\\n']\n",
    "\n",
    "f1.writelines(work)\n",
    "\n",
    "f1.close()"
   ]
  },
  {
   "cell_type": "code",
   "execution_count": 18,
   "id": "59bc71cb",
   "metadata": {},
   "outputs": [
    {
     "name": "stdout",
     "output_type": "stream",
     "text": [
      "오늘은 파일 입출력을 배웠습니다.\n",
      "다양한 파일 확장자와 접근 모드를 사용할 수 있다는 점이 흥미로웠습니다.\n",
      "\n"
     ]
    }
   ],
   "source": [
    "f2 = open('diary.txt', 'r', encoding='utf-8')\n",
    "\n",
    "f2_read = f2.read()\n",
    "\n",
    "print(f2_read)\n",
    "\n",
    "f2.close()"
   ]
  },
  {
   "cell_type": "markdown",
   "id": "86ea583e",
   "metadata": {},
   "source": [
    "### **문제 2: `.csv` 파일 생성 및 읽기**\n",
    "\n",
    "다람쥐는 이직 준비를 위해 지원했던 회사들의 정보를 저장하려고 합니다.\n",
    "\n",
    "1. `applications.csv` 파일을 생성하고 다음 데이터를 작성하세요.\n",
    "    \n",
    "    ```\n",
    "    회사명,직무,결과\n",
    "    회사A,데이터 분석가,합격\n",
    "    회사B,소프트웨어 엔지니어,불합격\n",
    "    회사C,제품 관리자,진행 중\n",
    "    ```\n",
    "    \n",
    "2. 파일을 닫고 다시 열어 모든 데이터를 출력하세요."
   ]
  },
  {
   "cell_type": "code",
   "execution_count": 13,
   "id": "2beb15ee",
   "metadata": {},
   "outputs": [],
   "source": [
    "f3 = open('application.csv', 'w')\n",
    "\n",
    "company = ['회사명, 직무, 결과\\n', '회사A, 데이터 분석가, 합격\\n', '회사B, 소프트웨어 엔지니어, 불합격\\n', '회사C, 제품 관리자, 진행 중\\n']\n",
    "\n",
    "f3.writelines(company)\n",
    "\n",
    "f3.close()"
   ]
  },
  {
   "cell_type": "code",
   "execution_count": 20,
   "id": "387d8ebc",
   "metadata": {},
   "outputs": [
    {
     "name": "stdout",
     "output_type": "stream",
     "text": [
      "회사명, 직무, 결과\n",
      "회사A, 데이터 분석가, 합격\n",
      "회사B, 소프트웨어 엔지니어, 불합격\n",
      "회사C, 제품 관리자, 진행 중\n",
      "\n"
     ]
    }
   ],
   "source": [
    "f4 = open('application.csv', 'r', encoding='utf-8')\n",
    "\n",
    "f4_readlines = f4.read()\n",
    "\n",
    "print(f4_readlines)\n",
    "f4.close()"
   ]
  },
  {
   "cell_type": "markdown",
   "id": "a017aa22",
   "metadata": {},
   "source": [
    "### **문제 3: `.log` 파일 읽기**\n",
    "\n",
    "다람쥐는 프로그램 실행 로그를 확인하려고 합니다.\n",
    "\n",
    "1. `system.log` 파일을 다음 내용으로 생성하세요.\n",
    "    \n",
    "    ```\n",
    "    [INFO] 2024-01-01 12:00:00: 시스템 시작\n",
    "    [WARN] 2024-01-01 12:05:00: 메모리 사용량 증가\n",
    "    [ERROR] 2024-01-01 12:10:00: 프로그램 종료\n",
    "    ```\n",
    "    \n",
    "2. 파일을 읽어와 `WARN` 또는 `ERROR`가 포함된 줄만 출력하세요."
   ]
  },
  {
   "cell_type": "code",
   "execution_count": 1,
   "id": "a1eb7108",
   "metadata": {},
   "outputs": [],
   "source": [
    "f5 = open('system.log', 'w')\n",
    "\n",
    "log = ['[INFO] 2024-01-01 12:00:00: 시스템 시작\\n',\n",
    "    '[WARN] 2024-01-01 12:05:00: 메모리 사용량 증가\\n',\n",
    "    '[ERROR] 2024-01-01 12:10:00: 프로그램 종료\\n']\n",
    "\n",
    "f5.writelines(log)\n",
    "\n",
    "f5.close()"
   ]
  },
  {
   "cell_type": "code",
   "execution_count": null,
   "id": "33786ade",
   "metadata": {},
   "outputs": [
    {
     "name": "stdout",
     "output_type": "stream",
     "text": [
      "[INFO] 2024-01-01 12:00:00: 시스템 시작\n",
      "[WARN] 2024-01-01 12:05:00: 메모리 사용량 증가\n",
      "[ERROR] 2024-01-01 12:10:00: 프로그램 종료\n",
      "\n"
     ]
    }
   ],
   "source": [
    "f6 = open('system.log', 'r', encoding='utf-8')\n",
    "\n",
    "f6_readlines = f6.read()\n",
    "\n",
    "print(f6_readlines)\n",
    "f6.close()"
   ]
  },
  {
   "cell_type": "markdown",
   "id": "fed09b69",
   "metadata": {},
   "source": [
    "### **문제 4: `.json` 파일 생성 및 읽기**\n",
    "\n",
    "다람쥐는 좋아하는 음식 데이터를 저장하고 싶습니다.\n",
    "\n",
    "1. `favorite_foods.json` 파일을 생성하고 다음 데이터를 작성하세요.\n",
    "    \n",
    "    ```json\n",
    "    {\n",
    "        \"name\": \"다람쥐\",\n",
    "        \"favorite_foods\": [\"도토리\", \"호두\", \"밤\"]\n",
    "    }\n",
    "    ```\n",
    "    \n",
    "2. 파일을 읽어와 다람쥐의 좋아하는 음식 리스트를 출력하세요."
   ]
  },
  {
   "cell_type": "code",
   "execution_count": null,
   "id": "60ce4f50",
   "metadata": {},
   "outputs": [],
   "source": [
    "f7 = open('favorite_foods.json', 'w')\n",
    "\n",
    "json = {\n",
    "    '\"name\" : \"다람쥐\",'\n",
    "    '\"favorite_foods\": [\"도토리\", \"호두\", \"밤\"] '\n",
    "}\n",
    "\n",
    "f7.writelines(log)\n",
    "\n",
    "f7.close()"
   ]
  },
  {
   "cell_type": "code",
   "execution_count": null,
   "id": "c1817cc4",
   "metadata": {},
   "outputs": [
    {
     "name": "stdout",
     "output_type": "stream",
     "text": [
      "['\"name\" : \"다람쥐\",\"favorite_foods\": [\"도토리\", \"호두\", \"밤\"] ']\n"
     ]
    }
   ],
   "source": [
    "f7 = open('favorite_foods.json', 'r', encoding='utf-8')\n",
    "\n",
    "f7_readlines = \n",
    "\n",
    "print(f7_readlines)\n",
    "f7.close()"
   ]
  },
  {
   "cell_type": "code",
   "execution_count": 3,
   "id": "50aac832",
   "metadata": {},
   "outputs": [
    {
     "ename": "JSONDecodeError",
     "evalue": "Expecting value: line 1 column 1 (char 0)",
     "output_type": "error",
     "traceback": [
      "\u001b[31m---------------------------------------------------------------------------\u001b[39m",
      "\u001b[31mJSONDecodeError\u001b[39m                           Traceback (most recent call last)",
      "\u001b[36mCell\u001b[39m\u001b[36m \u001b[39m\u001b[32mIn[3]\u001b[39m\u001b[32m, line 5\u001b[39m\n\u001b[32m      1\u001b[39m \u001b[38;5;28;01mimport\u001b[39;00m\u001b[38;5;250m \u001b[39m\u001b[34;01mjson\u001b[39;00m\n\u001b[32m      3\u001b[39m json_file = \u001b[38;5;28mopen\u001b[39m(\u001b[33m'\u001b[39m\u001b[33mfavorite_foods.json\u001b[39m\u001b[33m'\u001b[39m, \u001b[33m'\u001b[39m\u001b[33mr\u001b[39m\u001b[33m'\u001b[39m, encoding=\u001b[33m'\u001b[39m\u001b[33mutf-8\u001b[39m\u001b[33m'\u001b[39m)\n\u001b[32m----> \u001b[39m\u001b[32m5\u001b[39m json_dict = \u001b[43mjson\u001b[49m\u001b[43m.\u001b[49m\u001b[43mload\u001b[49m\u001b[43m(\u001b[49m\u001b[43mjson_file\u001b[49m\u001b[43m)\u001b[49m\n\u001b[32m      6\u001b[39m \u001b[38;5;66;03m# print(json_dict, type(json_file))\u001b[39;00m\n\u001b[32m      7\u001b[39m \u001b[38;5;28mprint\u001b[39m(json_dict[\u001b[33m'\u001b[39m\u001b[33mfavorite_foods\u001b[39m\u001b[33m'\u001b[39m])\n",
      "\u001b[36mFile \u001b[39m\u001b[32mc:\\Users\\Playdata\\AppData\\Local\\anaconda3\\envs\\pystudy_env\\Lib\\json\\__init__.py:293\u001b[39m, in \u001b[36mload\u001b[39m\u001b[34m(fp, cls, object_hook, parse_float, parse_int, parse_constant, object_pairs_hook, **kw)\u001b[39m\n\u001b[32m    274\u001b[39m \u001b[38;5;28;01mdef\u001b[39;00m\u001b[38;5;250m \u001b[39m\u001b[34mload\u001b[39m(fp, *, \u001b[38;5;28mcls\u001b[39m=\u001b[38;5;28;01mNone\u001b[39;00m, object_hook=\u001b[38;5;28;01mNone\u001b[39;00m, parse_float=\u001b[38;5;28;01mNone\u001b[39;00m,\n\u001b[32m    275\u001b[39m         parse_int=\u001b[38;5;28;01mNone\u001b[39;00m, parse_constant=\u001b[38;5;28;01mNone\u001b[39;00m, object_pairs_hook=\u001b[38;5;28;01mNone\u001b[39;00m, **kw):\n\u001b[32m    276\u001b[39m \u001b[38;5;250m    \u001b[39m\u001b[33;03m\"\"\"Deserialize ``fp`` (a ``.read()``-supporting file-like object containing\u001b[39;00m\n\u001b[32m    277\u001b[39m \u001b[33;03m    a JSON document) to a Python object.\u001b[39;00m\n\u001b[32m    278\u001b[39m \n\u001b[32m   (...)\u001b[39m\u001b[32m    291\u001b[39m \u001b[33;03m    kwarg; otherwise ``JSONDecoder`` is used.\u001b[39;00m\n\u001b[32m    292\u001b[39m \u001b[33;03m    \"\"\"\u001b[39;00m\n\u001b[32m--> \u001b[39m\u001b[32m293\u001b[39m     \u001b[38;5;28;01mreturn\u001b[39;00m \u001b[43mloads\u001b[49m\u001b[43m(\u001b[49m\u001b[43mfp\u001b[49m\u001b[43m.\u001b[49m\u001b[43mread\u001b[49m\u001b[43m(\u001b[49m\u001b[43m)\u001b[49m\u001b[43m,\u001b[49m\n\u001b[32m    294\u001b[39m \u001b[43m        \u001b[49m\u001b[38;5;28;43mcls\u001b[39;49m\u001b[43m=\u001b[49m\u001b[38;5;28;43mcls\u001b[39;49m\u001b[43m,\u001b[49m\u001b[43m \u001b[49m\u001b[43mobject_hook\u001b[49m\u001b[43m=\u001b[49m\u001b[43mobject_hook\u001b[49m\u001b[43m,\u001b[49m\n\u001b[32m    295\u001b[39m \u001b[43m        \u001b[49m\u001b[43mparse_float\u001b[49m\u001b[43m=\u001b[49m\u001b[43mparse_float\u001b[49m\u001b[43m,\u001b[49m\u001b[43m \u001b[49m\u001b[43mparse_int\u001b[49m\u001b[43m=\u001b[49m\u001b[43mparse_int\u001b[49m\u001b[43m,\u001b[49m\n\u001b[32m    296\u001b[39m \u001b[43m        \u001b[49m\u001b[43mparse_constant\u001b[49m\u001b[43m=\u001b[49m\u001b[43mparse_constant\u001b[49m\u001b[43m,\u001b[49m\u001b[43m \u001b[49m\u001b[43mobject_pairs_hook\u001b[49m\u001b[43m=\u001b[49m\u001b[43mobject_pairs_hook\u001b[49m\u001b[43m,\u001b[49m\u001b[43m \u001b[49m\u001b[43m*\u001b[49m\u001b[43m*\u001b[49m\u001b[43mkw\u001b[49m\u001b[43m)\u001b[49m\n",
      "\u001b[36mFile \u001b[39m\u001b[32mc:\\Users\\Playdata\\AppData\\Local\\anaconda3\\envs\\pystudy_env\\Lib\\json\\__init__.py:346\u001b[39m, in \u001b[36mloads\u001b[39m\u001b[34m(s, cls, object_hook, parse_float, parse_int, parse_constant, object_pairs_hook, **kw)\u001b[39m\n\u001b[32m    341\u001b[39m     s = s.decode(detect_encoding(s), \u001b[33m'\u001b[39m\u001b[33msurrogatepass\u001b[39m\u001b[33m'\u001b[39m)\n\u001b[32m    343\u001b[39m \u001b[38;5;28;01mif\u001b[39;00m (\u001b[38;5;28mcls\u001b[39m \u001b[38;5;129;01mis\u001b[39;00m \u001b[38;5;28;01mNone\u001b[39;00m \u001b[38;5;129;01mand\u001b[39;00m object_hook \u001b[38;5;129;01mis\u001b[39;00m \u001b[38;5;28;01mNone\u001b[39;00m \u001b[38;5;129;01mand\u001b[39;00m\n\u001b[32m    344\u001b[39m         parse_int \u001b[38;5;129;01mis\u001b[39;00m \u001b[38;5;28;01mNone\u001b[39;00m \u001b[38;5;129;01mand\u001b[39;00m parse_float \u001b[38;5;129;01mis\u001b[39;00m \u001b[38;5;28;01mNone\u001b[39;00m \u001b[38;5;129;01mand\u001b[39;00m\n\u001b[32m    345\u001b[39m         parse_constant \u001b[38;5;129;01mis\u001b[39;00m \u001b[38;5;28;01mNone\u001b[39;00m \u001b[38;5;129;01mand\u001b[39;00m object_pairs_hook \u001b[38;5;129;01mis\u001b[39;00m \u001b[38;5;28;01mNone\u001b[39;00m \u001b[38;5;129;01mand\u001b[39;00m \u001b[38;5;129;01mnot\u001b[39;00m kw):\n\u001b[32m--> \u001b[39m\u001b[32m346\u001b[39m     \u001b[38;5;28;01mreturn\u001b[39;00m \u001b[43m_default_decoder\u001b[49m\u001b[43m.\u001b[49m\u001b[43mdecode\u001b[49m\u001b[43m(\u001b[49m\u001b[43ms\u001b[49m\u001b[43m)\u001b[49m\n\u001b[32m    347\u001b[39m \u001b[38;5;28;01mif\u001b[39;00m \u001b[38;5;28mcls\u001b[39m \u001b[38;5;129;01mis\u001b[39;00m \u001b[38;5;28;01mNone\u001b[39;00m:\n\u001b[32m    348\u001b[39m     \u001b[38;5;28mcls\u001b[39m = JSONDecoder\n",
      "\u001b[36mFile \u001b[39m\u001b[32mc:\\Users\\Playdata\\AppData\\Local\\anaconda3\\envs\\pystudy_env\\Lib\\json\\decoder.py:338\u001b[39m, in \u001b[36mJSONDecoder.decode\u001b[39m\u001b[34m(self, s, _w)\u001b[39m\n\u001b[32m    333\u001b[39m \u001b[38;5;28;01mdef\u001b[39;00m\u001b[38;5;250m \u001b[39m\u001b[34mdecode\u001b[39m(\u001b[38;5;28mself\u001b[39m, s, _w=WHITESPACE.match):\n\u001b[32m    334\u001b[39m \u001b[38;5;250m    \u001b[39m\u001b[33;03m\"\"\"Return the Python representation of ``s`` (a ``str`` instance\u001b[39;00m\n\u001b[32m    335\u001b[39m \u001b[33;03m    containing a JSON document).\u001b[39;00m\n\u001b[32m    336\u001b[39m \n\u001b[32m    337\u001b[39m \u001b[33;03m    \"\"\"\u001b[39;00m\n\u001b[32m--> \u001b[39m\u001b[32m338\u001b[39m     obj, end = \u001b[38;5;28;43mself\u001b[39;49m\u001b[43m.\u001b[49m\u001b[43mraw_decode\u001b[49m\u001b[43m(\u001b[49m\u001b[43ms\u001b[49m\u001b[43m,\u001b[49m\u001b[43m \u001b[49m\u001b[43midx\u001b[49m\u001b[43m=\u001b[49m\u001b[43m_w\u001b[49m\u001b[43m(\u001b[49m\u001b[43ms\u001b[49m\u001b[43m,\u001b[49m\u001b[43m \u001b[49m\u001b[32;43m0\u001b[39;49m\u001b[43m)\u001b[49m\u001b[43m.\u001b[49m\u001b[43mend\u001b[49m\u001b[43m(\u001b[49m\u001b[43m)\u001b[49m\u001b[43m)\u001b[49m\n\u001b[32m    339\u001b[39m     end = _w(s, end).end()\n\u001b[32m    340\u001b[39m     \u001b[38;5;28;01mif\u001b[39;00m end != \u001b[38;5;28mlen\u001b[39m(s):\n",
      "\u001b[36mFile \u001b[39m\u001b[32mc:\\Users\\Playdata\\AppData\\Local\\anaconda3\\envs\\pystudy_env\\Lib\\json\\decoder.py:356\u001b[39m, in \u001b[36mJSONDecoder.raw_decode\u001b[39m\u001b[34m(self, s, idx)\u001b[39m\n\u001b[32m    354\u001b[39m     obj, end = \u001b[38;5;28mself\u001b[39m.scan_once(s, idx)\n\u001b[32m    355\u001b[39m \u001b[38;5;28;01mexcept\u001b[39;00m \u001b[38;5;167;01mStopIteration\u001b[39;00m \u001b[38;5;28;01mas\u001b[39;00m err:\n\u001b[32m--> \u001b[39m\u001b[32m356\u001b[39m     \u001b[38;5;28;01mraise\u001b[39;00m JSONDecodeError(\u001b[33m\"\u001b[39m\u001b[33mExpecting value\u001b[39m\u001b[33m\"\u001b[39m, s, err.value) \u001b[38;5;28;01mfrom\u001b[39;00m\u001b[38;5;250m \u001b[39m\u001b[38;5;28;01mNone\u001b[39;00m\n\u001b[32m    357\u001b[39m \u001b[38;5;28;01mreturn\u001b[39;00m obj, end\n",
      "\u001b[31mJSONDecodeError\u001b[39m: Expecting value: line 1 column 1 (char 0)"
     ]
    }
   ],
   "source": [
    "import json\n",
    "\n",
    "json_file = open('favorite_foods.json', 'r', encoding='utf-8')\n",
    "\n",
    "json_dict = json.load(json_file)\n",
    "# print(json_dict, type(json_file))\n",
    "print(json_dict['favorite_foods'])\n",
    "\n",
    "json_file.close()"
   ]
  },
  {
   "cell_type": "markdown",
   "id": "1786ca10",
   "metadata": {},
   "source": [
    "### **문제 5: `.html` 파일 수정**\n",
    "\n",
    "다람쥐는 자신의 이력서를 작성 중입니다. `resume.html` 파일을 다음 내용으로 생성하고 수정하세요.\n",
    "\n",
    "1. `resume.html` 파일 생성 내용:\n",
    "    \n",
    "    ```html\n",
    "    <html>\n",
    "        <head><title>다람쥐의 이력서</title></head>\n",
    "        <body>\n",
    "            <h1>다람쥐의 이력서</h1>\n",
    "            <p>경력: 신입</p>\n",
    "        </body>\n",
    "    </html>\n",
    "    ```\n",
    "    \n",
    "2. 수정 작업:\n",
    "    - `<p>` 태그 안의 \"신입\"을 \"1년 경력\"으로 변경하세요.\n",
    "3. 수정된 파일을 읽어와 전체 내용을 출력하세요."
   ]
  },
  {
   "cell_type": "code",
   "execution_count": 4,
   "id": "85161cd1",
   "metadata": {},
   "outputs": [],
   "source": [
    "html_file = open('resume.html', 'w', encoding='utf-8')\n",
    "\n",
    "html_file.write('''\n",
    "    <html>\n",
    "        <head><title>다람쥐의 이력서</title></head>\n",
    "        <body>\n",
    "            <h1>다람쥐의 이력서</h1>\n",
    "            <p>경력: 신입</p>\n",
    "        </body>\n",
    "    </html>''')\n",
    "\n",
    "html_file.close()"
   ]
  },
  {
   "cell_type": "code",
   "execution_count": 5,
   "id": "a880ea26",
   "metadata": {},
   "outputs": [],
   "source": [
    "html_read = open('resume.html', 'r', encoding='utf-8')\n",
    "\n",
    "contents = html_read.read()\n",
    "\n",
    "html_read.close()"
   ]
  },
  {
   "cell_type": "code",
   "execution_count": 6,
   "id": "1c631b72",
   "metadata": {},
   "outputs": [
    {
     "name": "stdout",
     "output_type": "stream",
     "text": [
      "\n",
      "    <html>\n",
      "        <head><title>다람쥐의 이력서</title></head>\n",
      "        <body>\n",
      "            <h1>다람쥐의 이력서</h1>\n",
      "            <p>경력: 1년 경력</p>\n",
      "        </body>\n",
      "    </html>\n"
     ]
    }
   ],
   "source": [
    "modified_contents = contents.replace('신입', '1년 경력')\n",
    "print(modified_contents)"
   ]
  },
  {
   "cell_type": "code",
   "execution_count": 7,
   "id": "787becb1",
   "metadata": {},
   "outputs": [
    {
     "name": "stdout",
     "output_type": "stream",
     "text": [
      "\n",
      "    <html>\n",
      "        <head><title>다람쥐의 이력서</title></head>\n",
      "        <body>\n",
      "            <h1>다람쥐의 이력서</h1>\n",
      "            <p>경력: 1년 경력</p>\n",
      "        </body>\n",
      "    </html>\n"
     ]
    }
   ],
   "source": [
    "with open('resume.html', 'w', encoding='utf-8') as f:\n",
    "    f.write(modified_contents)\n",
    "\n",
    "with open('resume.html', 'r', encoding='utf-8') as f:\n",
    "    print(f.read())"
   ]
  },
  {
   "cell_type": "code",
   "execution_count": null,
   "id": "16711032",
   "metadata": {},
   "outputs": [],
   "source": []
  }
 ],
 "metadata": {
  "kernelspec": {
   "display_name": "pystudy_env",
   "language": "python",
   "name": "python3"
  },
  "language_info": {
   "codemirror_mode": {
    "name": "ipython",
    "version": 3
   },
   "file_extension": ".py",
   "mimetype": "text/x-python",
   "name": "python",
   "nbconvert_exporter": "python",
   "pygments_lexer": "ipython3",
   "version": "3.12.11"
  }
 },
 "nbformat": 4,
 "nbformat_minor": 5
}

{
 "cells": [
  {
   "cell_type": "markdown",
   "id": "230333ee",
   "metadata": {},
   "source": []
  },
  {
   "cell_type": "code",
   "execution_count": 4,
   "id": "42cb408e",
   "metadata": {},
   "outputs": [],
   "source": [
    "my_name = '다람쥐'\n",
    "class_name = \"SKN 17기\""
   ]
  },
  {
   "cell_type": "code",
   "execution_count": 8,
   "id": "84a89413",
   "metadata": {},
   "outputs": [
    {
     "name": "stdout",
     "output_type": "stream",
     "text": [
      "<class 'str'>\n"
     ]
    }
   ],
   "source": [
    "print(type(class_name))"
   ]
  },
  {
   "cell_type": "code",
   "execution_count": null,
   "id": "8229b018",
   "metadata": {},
   "outputs": [
    {
     "name": "stdout",
     "output_type": "stream",
     "text": [
      "갈비탕 5그릇\n"
     ]
    }
   ],
   "source": [
    "str1 = \"오늘의 점심 메뉴는?\"\n",
    "str2 = \"갈비탕\"\n",
    "\n",
    "# print(str1 + str2)\n",
    "# print( 5 * str2)\n",
    "# print(5 + str2) # 문자열 끼리만 + 연산은 가능 다만 다른 자료형과 문자열을 합쳐서 사용 불가능\n",
    "\n",
    "num = 5\n",
    "print(str2 + num + \"그릇\") # 실행 에러\n",
    "print(f\"{str2} {num}그릇\") # 실행 가능"
   ]
  },
  {
   "cell_type": "code",
   "execution_count": 16,
   "id": "2f17c32c",
   "metadata": {},
   "outputs": [
    {
     "name": "stdout",
     "output_type": "stream",
     "text": [
      "갈비탕 5그릇\n"
     ]
    }
   ],
   "source": [
    "result = f\"{str2} {num}그릇\"\n",
    "print(result)"
   ]
  },
  {
   "cell_type": "markdown",
   "id": "2350dfd1",
   "metadata": {},
   "source": [
    "### 문제 1\n",
    "\n",
    "아래 조건에 맞게 변수를 선언하고 결과를 출력하세요.\n",
    "\n",
    "1. `greeting_message` 변수에 문자열 `\"Hello\"`를 저장합니다.\n",
    "2. `greeting_target` 변수에 `\"World\"`를 저장합니다.\n",
    "3. 두 문자열을 이어 붙여 `\"HelloWorld\"`를 출력하세요."
   ]
  },
  {
   "cell_type": "code",
   "execution_count": 25,
   "id": "4c98a46b",
   "metadata": {},
   "outputs": [
    {
     "name": "stdout",
     "output_type": "stream",
     "text": [
      "\"HelloWorld\"\n"
     ]
    }
   ],
   "source": [
    "greeting_message = \"Hello\"\n",
    "greeting_target = \"World\"\n",
    "print(f'\"{greeting_message}{greeting_target}\"')"
   ]
  },
  {
   "cell_type": "markdown",
   "id": "339c59ef",
   "metadata": {},
   "source": [
    "### **문제 2**\n",
    "\n",
    "1. `age`에 당신의 나이, `city`에 당신의 거주지를 저장합니다.\n",
    "2. f-string을 사용하여 다음 문장과 같은 형태로 출력하세요.\n",
    "    - `\"나는 25살이고, Seoul에 살고 있습니다.\"`"
   ]
  },
  {
   "cell_type": "code",
   "execution_count": 24,
   "id": "1262d2cb",
   "metadata": {},
   "outputs": [
    {
     "name": "stdout",
     "output_type": "stream",
     "text": [
      "\"나는 34살이고, Ansan에 살고 있습니다.\"\n"
     ]
    }
   ],
   "source": [
    "age = 34\n",
    "city = \"Ansan\"\n",
    "print(f'\"나는 {age}살이고, {city}에 살고 있습니다.\"')"
   ]
  },
  {
   "cell_type": "code",
   "execution_count": 29,
   "id": "6e004e7a",
   "metadata": {},
   "outputs": [
    {
     "name": "stdout",
     "output_type": "stream",
     "text": [
      "\"나는34살이고, Ansan에 살고 있습니다.\"\n"
     ]
    }
   ],
   "source": [
    "print('\"나는'+ str(age) + '살이고, ' + city + '에 살고 있습니다.\"')"
   ]
  }
 ],
 "metadata": {
  "kernelspec": {
   "display_name": "pystudy_env",
   "language": "python",
   "name": "python3"
  },
  "language_info": {
   "codemirror_mode": {
    "name": "ipython",
    "version": 3
   },
   "file_extension": ".py",
   "mimetype": "text/x-python",
   "name": "python",
   "nbconvert_exporter": "python",
   "pygments_lexer": "ipython3",
   "version": "3.12.11"
  }
 },
 "nbformat": 4,
 "nbformat_minor": 5
}

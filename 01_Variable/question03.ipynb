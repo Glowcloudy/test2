{
 "cells": [
  {
   "cell_type": "markdown",
   "id": "2ea86b8a",
   "metadata": {},
   "source": [
    "### **문제 3**\n",
    "\n",
    "변수에 담긴 값을 다른 변수에 대입하는 연습을 해봅시다.\n",
    "\n",
    "1. `city`라는 변수에 **당신이 살고 있는 도시 이름**을 문자열로 저장하세요.\n",
    "2. `my_city`라는 변수에 `city` 변수의 값을 대입하세요.\n",
    "3. 두 변수를 각각 `print()`로 출력해보세요."
   ]
  },
  {
   "cell_type": "code",
   "execution_count": null,
   "id": "576fc4b5",
   "metadata": {},
   "outputs": [
    {
     "name": "stdout",
     "output_type": "stream",
     "text": [
      "ansan\n",
      "ansan\n"
     ]
    }
   ],
   "source": [
    "city = 'ansan'\n",
    "my_city = city\n",
    "print(city, my_city)"
   ]
  },
  {
   "cell_type": "code",
   "execution_count": null,
   "id": "4451e3a0",
   "metadata": {},
   "outputs": [],
   "source": []
  },
  {
   "cell_type": "code",
   "execution_count": null,
   "id": "ceadd135",
   "metadata": {},
   "outputs": [],
   "source": []
  }
 ],
 "metadata": {
  "kernelspec": {
   "display_name": "pystudy_env",
   "language": "python",
   "name": "python3"
  },
  "language_info": {
   "codemirror_mode": {
    "name": "ipython",
    "version": 3
   },
   "file_extension": ".py",
   "mimetype": "text/x-python",
   "name": "python",
   "nbconvert_exporter": "python",
   "pygments_lexer": "ipython3",
   "version": "3.12.11"
  }
 },
 "nbformat": 4,
 "nbformat_minor": 5
}

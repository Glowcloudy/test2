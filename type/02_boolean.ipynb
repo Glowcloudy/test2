{
 "cells": [
  {
   "cell_type": "markdown",
   "id": "b116ef21",
   "metadata": {},
   "source": []
  },
  {
   "cell_type": "code",
   "execution_count": 4,
   "id": "b136bd25",
   "metadata": {},
   "outputs": [],
   "source": [
    "bool1 = True\n",
    "bool2 = False"
   ]
  },
  {
   "cell_type": "code",
   "execution_count": 6,
   "id": "38c927fc",
   "metadata": {},
   "outputs": [
    {
     "data": {
      "text/plain": [
       "bool"
      ]
     },
     "execution_count": 6,
     "metadata": {},
     "output_type": "execute_result"
    }
   ],
   "source": [
    "type(bool2)"
   ]
  },
  {
   "cell_type": "code",
   "execution_count": null,
   "id": "ec4ec4d6",
   "metadata": {},
   "outputs": [],
   "source": [
    "'hello' == 'Hello'\n",
    "100 != 100\n",
    "10 > 9\n",
    "10 < 9\n",
    "10 <= 10\n",
    "10 >= 9"
   ]
  },
  {
   "cell_type": "markdown",
   "id": "61a6a283",
   "metadata": {},
   "source": [
    "False\n",
    "False\n",
    "True\n",
    "False\n",
    "True\n",
    "True"
   ]
  },
  {
   "cell_type": "code",
   "execution_count": 15,
   "id": "09f17e8c",
   "metadata": {},
   "outputs": [
    {
     "name": "stdout",
     "output_type": "stream",
     "text": [
      "True\n",
      "True\n",
      "False\n",
      "False\n",
      "True\n",
      "False\n"
     ]
    }
   ],
   "source": [
    "name = '다람쥐'\n",
    "age = 20\n",
    "gender = 'male'\n",
    "\n",
    "# 1. 이름이 다람쥐이면 True\n",
    "print(name == '다람쥐')\n",
    "\n",
    "# 2. 성인이면 True (19세 이상을 성인이라고 기준함)\n",
    "print(age >=19)\n",
    "\n",
    "# 3. 성인이면서 여성이면 True\n",
    "print(age >= 19 and gender == 'female')\n",
    "\n",
    "# 4. 이름이 호랑이이면서 성인이면서 남성이면 True\n",
    "print(name == '호랑이' and age >= 19 and gender == 'male')\n",
    "\n",
    "# 5. 이름이 다람쥐이거나 성인이면 True\n",
    "print(name == '다람쥐' or age >= 19)\n",
    "\n",
    "# 6. 이름이 다람쥐가 아니면 True (논리연산 not 이용)\n",
    "print(not name == '다람쥐')"
   ]
  }
 ],
 "metadata": {
  "kernelspec": {
   "display_name": "pystudy_env",
   "language": "python",
   "name": "python3"
  },
  "language_info": {
   "codemirror_mode": {
    "name": "ipython",
    "version": 3
   },
   "file_extension": ".py",
   "mimetype": "text/x-python",
   "name": "python",
   "nbconvert_exporter": "python",
   "pygments_lexer": "ipython3",
   "version": "3.12.11"
  }
 },
 "nbformat": 4,
 "nbformat_minor": 5
}

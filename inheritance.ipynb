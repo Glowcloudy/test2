{
 "cells": [
  {
   "cell_type": "markdown",
   "id": "d1935ab0-6b07-455f-825e-6febcbe6c950",
   "metadata": {},
   "source": [
    "# 상속"
   ]
  },
  {
   "cell_type": "code",
   "execution_count": 3,
   "id": "a57e01c6-df04-4533-9a2b-7c91f092402d",
   "metadata": {},
   "outputs": [
    {
     "name": "stdout",
     "output_type": "stream",
     "text": [
      "Hello. This is Python\n",
      "korea\n"
     ]
    }
   ],
   "source": [
    "class Person:\n",
    "    national = 'korea'\n",
    "    \n",
    "    def greeting(self):\n",
    "        return 'Hello. This is Python'\n",
    "\n",
    "class Student(Person):\n",
    "    pass\n",
    "\n",
    "student = Student()\n",
    "print(student.greeting())    # Hello. This is Python\n",
    "print(student.national)"
   ]
  },
  {
   "cell_type": "code",
   "execution_count": 7,
   "id": "174d272e-dbd2-4be2-960d-65febad2f12a",
   "metadata": {},
   "outputs": [],
   "source": [
    "class Person:\n",
    "\n",
    "    def __init__(self, name, phone):\n",
    "        self.name = name\n",
    "        self.phone = phone\n",
    "\n",
    "    def __str__(self):\n",
    "        return f'<person {self.name}>'\n",
    "        "
   ]
  },
  {
   "cell_type": "code",
   "execution_count": 20,
   "id": "1e96d719-77e5-4545-8476-c265cb85b828",
   "metadata": {},
   "outputs": [],
   "source": [
    "class Student(Person):\n",
    "\n",
    "    def __init__(self, name, phone, hobby):\n",
    "        # 방법1. 직접 할당 (상속의 의미가 없음)\n",
    "        # self.name = name\n",
    "        # self.phone = phone\n",
    "        \n",
    "        # 방법2. 부모클래스.__init__(self, ...)\n",
    "        # Person.__init__(self, name, phone)\n",
    "\n",
    "        # 방법3. super().__init__(...)\n",
    "        super().__init__(name, phone)\n",
    "        \n",
    "        self.hobby = hobby"
   ]
  },
  {
   "cell_type": "code",
   "execution_count": 8,
   "id": "178d9d5a-52b8-4f23-a7fc-29fc24e6663f",
   "metadata": {},
   "outputs": [
    {
     "name": "stdout",
     "output_type": "stream",
     "text": [
      "<person 다람쥐>\n"
     ]
    }
   ],
   "source": [
    "person = Person('다람쥐', '010-1234-1234')\n",
    "print(person)"
   ]
  },
  {
   "cell_type": "code",
   "execution_count": 21,
   "id": "ffc372b1-3f20-4b0b-a736-3cb08c972cf8",
   "metadata": {},
   "outputs": [
    {
     "name": "stdout",
     "output_type": "stream",
     "text": [
      "김둘리 010-1111-1111 파이썬 공부하기\n"
     ]
    }
   ],
   "source": [
    "s1 = Student('김둘리', '010-1111-1111', '파이썬 공부하기')\n",
    "print(s1.name, s1.phone, s1.hobby)"
   ]
  },
  {
   "cell_type": "markdown",
   "id": "ae4cc2be-603a-45e1-9b2c-bb0c777beba1",
   "metadata": {},
   "source": [
    "- 오버라이딩"
   ]
  },
  {
   "cell_type": "code",
   "execution_count": 23,
   "id": "a34eb6e5-2c16-4335-997e-d17cd66abe2a",
   "metadata": {},
   "outputs": [],
   "source": [
    "class Animal:\n",
    "    species = '동물'\n",
    "\n",
    "    def introduce(self):\n",
    "        print('동물의 왕국에 오신 것을 환영합니다 :)')\n",
    "\n",
    "class Mammalia(Animal):\n",
    "    species = '포유류'\n",
    "\n",
    "    def has_fur(self):\n",
    "        return True\n",
    "\n",
    "class Squirrel(Mammalia):\n",
    "    name = \"다람쥐\"\n",
    "\n",
    "    def eat(self):\n",
    "        print('도토리는 정말 맛있어 냠냠냠')\n",
    "\n",
    "class SquirrelTeacher(Squirrel):\n",
    "\n",
    "    def introduce(self):\n",
    "        print('안녕하세요 다람쥐 강사입니다~!')"
   ]
  },
  {
   "cell_type": "code",
   "execution_count": 24,
   "id": "75c5e3e1-62c4-4b7d-add7-0330528be23a",
   "metadata": {},
   "outputs": [
    {
     "name": "stdout",
     "output_type": "stream",
     "text": [
      "안녕하세요 다람쥐 강사입니다~!\n",
      "다람쥐\n",
      "도토리는 정말 맛있어 냠냠냠\n",
      "포유류\n",
      "True\n"
     ]
    }
   ],
   "source": [
    "st = SquirrelTeacher()\n",
    "\n",
    "st.introduce()           # '안녕하세요 다람쥐 강사입니다~!'\n",
    "\n",
    "print(st.name)           # \"다람쥐\"\n",
    "st.eat()                 # '도토리는 정말 맛있어 냠냠냠'\n",
    "\n",
    "print(st.species)        # '동물' X\n",
    "print(st.has_fur())      # True"
   ]
  },
  {
   "cell_type": "code",
   "execution_count": 25,
   "id": "28359308-bf88-45ca-9e69-720880166953",
   "metadata": {},
   "outputs": [
    {
     "data": {
      "text/plain": [
       "(__main__.SquirrelTeacher,\n",
       " __main__.Squirrel,\n",
       " __main__.Mammalia,\n",
       " __main__.Animal,\n",
       " object)"
      ]
     },
     "execution_count": 25,
     "metadata": {},
     "output_type": "execute_result"
    }
   ],
   "source": [
    "SquirrelTeacher.__mro__      # method 탐색 기능"
   ]
  },
  {
   "cell_type": "markdown",
   "id": "5ad72cf8-f6e8-4bf7-bdbc-8d6e362b61a7",
   "metadata": {},
   "source": [
    "# 실습 문제"
   ]
  },
  {
   "cell_type": "markdown",
   "id": "96e54b32-cb7c-4ef9-b793-d911fef69026",
   "metadata": {},
   "source": [
    "### 문제 1: **기본 상속을 활용한 클래스 생성**\n",
    "\n",
    "다람쥐는 이직을 준비하며 새로운 직업군을 탐색하고 있습니다. 다람쥐의 기본적인 정보를 담는 `Person` 클래스를 만들고, 이를 상속받는 `Candidate` 클래스를 생성하세요.\n",
    "\n",
    "1. `Person` 클래스:\n",
    "    - 클래스 속성 `national`은 \"Korea\"로 설정합니다.\n",
    "    - 메서드 `introduce`는 `\"안녕하세요, 저는 한국에서 왔습니다.\"`를 반환합니다.\n",
    "2. `Candidate` 클래스:\n",
    "    - `Person` 클래스를 상속받습니다.\n",
    "    - 생성자에서 이름(`name`)과 관심 분야(`field`)를 매개변수로 받아 저장합니다.\n",
    "    - 메서드 `introduce`를 오버라이드하여 `\"안녕하세요, 저는 [name]입니다. [field] 분야에 관심이 있습니다.\"`를 반환합니다."
   ]
  },
  {
   "cell_type": "code",
   "execution_count": 26,
   "id": "145d0464-86d0-4d08-b040-7e886da102fc",
   "metadata": {},
   "outputs": [],
   "source": [
    "class Person:\n",
    "    national = \"Korea\"\n",
    "\n",
    "    def introduce(self):\n",
    "        return print(f'\"안녕하세요, 저는 한국에서 왔습니다.\"')\n",
    "\n",
    "class Candidate(Person):\n",
    "\n",
    "    def __init__(self, name, field):\n",
    "        self.name = name\n",
    "        self.field = field\n",
    "\n",
    "    def introduce(self):\n",
    "        return print(f'\"안녕하세요, 저는 {self.name} {self.field}분야에 관심이 있습니다..\"')"
   ]
  },
  {
   "cell_type": "code",
   "execution_count": 59,
   "id": "1392b96e-161e-4160-8f50-1dc1f77a7f7d",
   "metadata": {},
   "outputs": [
    {
     "ename": "TypeError",
     "evalue": "Person.__init__() missing 2 required positional arguments: 'name' and 'national'",
     "output_type": "error",
     "traceback": [
      "\u001b[31m---------------------------------------------------------------------------\u001b[39m",
      "\u001b[31mTypeError\u001b[39m                                 Traceback (most recent call last)",
      "\u001b[36mCell\u001b[39m\u001b[36m \u001b[39m\u001b[32mIn[59]\u001b[39m\u001b[32m, line 1\u001b[39m\n\u001b[32m----> \u001b[39m\u001b[32m1\u001b[39m ses1 = \u001b[43mPerson\u001b[49m\u001b[43m(\u001b[49m\u001b[43m)\u001b[49m\n\u001b[32m      2\u001b[39m ses1.introduce()\n\u001b[32m      4\u001b[39m ses2 = Candidate(\u001b[33m\"\u001b[39m\u001b[33m길동\u001b[39m\u001b[33m\"\u001b[39m, \u001b[33m\"\u001b[39m\u001b[33m파이썬\u001b[39m\u001b[33m\"\u001b[39m)\n",
      "\u001b[31mTypeError\u001b[39m: Person.__init__() missing 2 required positional arguments: 'name' and 'national'"
     ]
    }
   ],
   "source": [
    "ses1 = Person()\n",
    "ses1.introduce()\n",
    "\n",
    "ses2 = Candidate(\"길동\", \"파이썬\")\n",
    "ses2.introduce()"
   ]
  },
  {
   "cell_type": "markdown",
   "id": "8b786a41-6d50-4d4c-8737-c766d5950c9f",
   "metadata": {},
   "source": [
    "### 문제 2: **다중 상속을 활용한 클래스 생성**\n",
    "\n",
    "다람쥐는 이직을 준비하며 여러 강사님들의 도움을 받고 있습니다. 강사의 역할을 분리한 클래스를 만들어 상속 구조를 테스트하세요.\n",
    "\n",
    "1. `Mentor` 클래스:\n",
    "    - 메서드 `guide`는 `\"이직 준비를 도와드립니다.\"`를 반환합니다.\n",
    "2. `Lecturer` 클래스:\n",
    "    - 메서드 `teach`는 `\"이직에 필요한 기술을 가르쳐드립니다.\"`를 반환합니다.\n",
    "3. `Coach` 클래스:\n",
    "    - `Mentor`와 `Lecturer` 클래스를 다중 상속받습니다.\n",
    "    - 메서드 `support`는 `\"여러 방면으로 지원을 아끼지 않겠습니다.\"`를 반환합니다."
   ]
  },
  {
   "cell_type": "code",
   "execution_count": 33,
   "id": "62b483a1-ba38-44de-94e6-7277c2301a52",
   "metadata": {},
   "outputs": [],
   "source": [
    "class Mentor:\n",
    "\n",
    "    def guide(self):\n",
    "        return print(f'\"이직 준비를 도와드립니다.\"')\n",
    "\n",
    "class Lecturer:\n",
    "\n",
    "    def teach(self):\n",
    "        return print(f'\"이직 필요한 기술을 가르쳐드립니다.\"')\n",
    "\n",
    "class Coach(Mentor, Lecturer):\n",
    "\n",
    "    def support(self):\n",
    "        return print(f'\"여러 방면으로 지원을 아끼지 않겠습니다.\"')"
   ]
  },
  {
   "cell_type": "code",
   "execution_count": 37,
   "id": "e8ec3dbc-0ece-4c0f-8886-9d2332302c24",
   "metadata": {},
   "outputs": [
    {
     "name": "stdout",
     "output_type": "stream",
     "text": [
      "\"이직 준비를 도와드립니다.\"\n",
      "\"이직 필요한 기술을 가르쳐드립니다.\"\n",
      "\"여러 방면으로 지원을 아끼지 않겠습니다.\"\n"
     ]
    }
   ],
   "source": [
    "ts = Coach()\n",
    "\n",
    "ts.guide()\n",
    "ts.teach()\n",
    "ts.support()"
   ]
  },
  {
   "cell_type": "markdown",
   "id": "830a2b12-2e8b-4ecf-9e67-9d25858c5f59",
   "metadata": {},
   "source": [
    "### 문제 3: **부모 클래스 속성 오버라이딩**\n",
    "\n",
    "다람쥐는 이직 준비를 위해 개인적인 특성을 강조하고 있습니다. 부모 클래스의 메서드를 오버라이딩하여 각기 다른 인스턴스를 만들어보세요.\n",
    "\n",
    "1. `Person` 클래스:\n",
    "    - 속성 `name`과 `national`을 생성자로 받아 저장합니다.\n",
    "    - 메서드 `introduce`는 `\"안녕하세요, 저는 [name]입니다. 저는 [national]에서 왔습니다.\"`를 반환합니다.\n",
    "2. `Candidate` 클래스:\n",
    "    - `Person` 클래스를 상속받습니다.\n",
    "    - `introduce` 메서드를 오버라이드하여 `\"안녕하세요, 제 이름은 [name]이고, 이직 준비 중입니다.\"`를 반환합니다."
   ]
  },
  {
   "cell_type": "code",
   "execution_count": 62,
   "id": "61a01829-ee93-43f0-b4eb-e637889bfcfa",
   "metadata": {},
   "outputs": [],
   "source": [
    "class Person:\n",
    "\n",
    "    def __init__(self, name, national):\n",
    "        self.name = name\n",
    "        self.national = national\n",
    "\n",
    "    def introduce(self):\n",
    "        return print(f'\"안녕하세요, 저는 {self.name}입니다. 저는 {self.national}에서 왔습니다.\"')\n",
    "\n",
    "class Candidate(Person):\n",
    "\n",
    "    def introduce(self):\n",
    "        return print(f'\"안녕하세요, 저는 {self.name}입니다. 이직 준비 중입니다.\"')"
   ]
  },
  {
   "cell_type": "code",
   "execution_count": 66,
   "id": "ebdcbd49-e674-448a-bbc2-1919376c7cc1",
   "metadata": {},
   "outputs": [
    {
     "name": "stdout",
     "output_type": "stream",
     "text": [
      "\"안녕하세요, 저는 길동입니다. 저는 미국에서 왔습니다.\"\n",
      "\"안녕하세요, 저는 지우입니다. 이직 준비 중입니다.\"\n"
     ]
    }
   ],
   "source": [
    "ps1 = Person(\"길동\", \"미국\")\n",
    "ps1. introduce()\n",
    "\n",
    "ps2 = Candidate(\"지우\", \"영국\")\n",
    "ps2.introduce()"
   ]
  },
  {
   "cell_type": "markdown",
   "id": "096eb31d-dc0a-486d-a972-a33c80cd6461",
   "metadata": {},
   "source": [
    "### 문제 4: **상속의 특성 통합 테스트**\n",
    "\n",
    "다람쥐는 강사님들의 지도를 받으며 다양한 분야에서 경험을 쌓고 있습니다. 상속과 메서드 오버라이딩, 다중 상속을 종합적으로 테스트하세요.\n",
    "\n",
    "1. `Mentor` 클래스:\n",
    "    - 속성 `field`를 생성자로 받아 저장합니다.\n",
    "    - 메서드 `guide`는 `\"저는 [field] 분야의 멘토입니다.\"`를 반환합니다.\n",
    "2. `Lecturer` 클래스:\n",
    "    - 속성 `experience`를 생성자로 받아 저장합니다.\n",
    "    - 메서드 `teach`는 `\"저는 [experience]년의 강의 경력을 가지고 있습니다.\"`를 반환합니다.\n",
    "3. `Candidate` 클래스:\n",
    "    - `Mentor`와 `Lecturer` 클래스를 다중 상속받습니다.\n",
    "    - `guide` 메서드를 오버라이드하여 `\"저는 [field] 분야의 강사이며, 이직 준비를 도와드립니다.\"`를 반환합니다."
   ]
  },
  {
   "cell_type": "code",
   "execution_count": 68,
   "id": "7ebcf51b-c4ae-4e54-b120-3980b06ae66e",
   "metadata": {},
   "outputs": [],
   "source": [
    "class Mentor:\n",
    "\n",
    "    def __init__(self, field):\n",
    "        self.field = field\n",
    "\n",
    "    def guide(self):\n",
    "        return print(f'\"안녕하세요, 저는 {self.field} 분야의 멘토입니다.\"')\n",
    "\n",
    "class Lecturer:\n",
    "\n",
    "     def __init__(self, experience):\n",
    "        self.experience = experience\n",
    "\n",
    "     def teach(self):\n",
    "         return print(f'\"저는 {self.experience}년의 강의 경력을 가지고 있습니다.\"')\n",
    "\n",
    "class Candidate(Mentor, Lecturer):\n",
    "    def guide(self):\n",
    "        return print(f'\"안녕하세요, 저는 {self.field} 분야의 강사이며, 이직 준비를 도와드립니다.\"')"
   ]
  },
  {
   "cell_type": "code",
   "execution_count": 69,
   "id": "7b395667-59d5-44e4-a46d-adb813d487bf",
   "metadata": {},
   "outputs": [
    {
     "name": "stdout",
     "output_type": "stream",
     "text": [
      "\"안녕하세요, 저는 물리학 분야의 멘토입니다.\"\n",
      "\"저는 10년의 강의 경력을 가지고 있습니다.\"\n",
      "\"안녕하세요, 저는 경제 분야의 강사이며, 이직 준비를 도와드립니다.\"\n"
     ]
    }
   ],
   "source": [
    "cl = Mentor(\"물리학\")\n",
    "cl.guide()\n",
    "\n",
    "c2 = Lecturer(\"10\")\n",
    "c2.teach()\n",
    "\n",
    "c3 = Candidate(\"경제\")\n",
    "c3.guide()"
   ]
  },
  {
   "cell_type": "code",
   "execution_count": null,
   "id": "bb4c24ca-2a32-43b0-83ec-d2eaa5e1d062",
   "metadata": {},
   "outputs": [],
   "source": []
  }
 ],
 "metadata": {
  "kernelspec": {
   "display_name": "pystudy_env",
   "language": "python",
   "name": "pystudy_env"
  },
  "language_info": {
   "codemirror_mode": {
    "name": "ipython",
    "version": 3
   },
   "file_extension": ".py",
   "mimetype": "text/x-python",
   "name": "python",
   "nbconvert_exporter": "python",
   "pygments_lexer": "ipython3",
   "version": "3.12.11"
  }
 },
 "nbformat": 4,
 "nbformat_minor": 5
}

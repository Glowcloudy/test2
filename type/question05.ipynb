{
 "cells": [
  {
   "cell_type": "markdown",
   "id": "dc1fe49d",
   "metadata": {},
   "source": [
    "### **문제 5**\n",
    "\n",
    "다음 조건에 맞는 프로그램을 작성하세요.\n",
    "\n",
    "1. `number`라는 변수에 숫자 3을 저장합니다.\n",
    "2. 이 숫자가 **짝수인지 홀수인지**를 확인하세요."
   ]
  },
  {
   "cell_type": "code",
   "execution_count": 4,
   "id": "5df959cf",
   "metadata": {},
   "outputs": [
    {
     "name": "stdout",
     "output_type": "stream",
     "text": [
      "number는 홀 수 입니다.\n",
      "False\n",
      "1\n"
     ]
    }
   ],
   "source": [
    "number = 3\n",
    "# Solution 1 using the \"if\"\n",
    "if number //2 != 1:\n",
    "    print(\"number의 값은 짝수 입니다.\")\n",
    "else:\n",
    "    print(\"number는 홀 수 입니다.\")\n",
    "\n",
    "# Solution 2 True or False\n",
    "print(number //2 == 0)\n",
    "\n",
    "# Solution 3 0 or 1\n",
    "print(number // 2)\n"
   ]
  }
 ],
 "metadata": {
  "kernelspec": {
   "display_name": "pystudy_env",
   "language": "python",
   "name": "python3"
  },
  "language_info": {
   "codemirror_mode": {
    "name": "ipython",
    "version": 3
   },
   "file_extension": ".py",
   "mimetype": "text/x-python",
   "name": "python",
   "nbconvert_exporter": "python",
   "pygments_lexer": "ipython3",
   "version": "3.12.11"
  }
 },
 "nbformat": 4,
 "nbformat_minor": 5
}

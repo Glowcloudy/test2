{
 "cells": [
  {
   "cell_type": "code",
   "execution_count": null,
   "id": "d85cefbb",
   "metadata": {},
   "outputs": [
    {
     "name": "stdout",
     "output_type": "stream",
     "text": [
      "[20225, 26, 18, 9, 6]\n"
     ]
    }
   ],
   "source": [
    "num_list = [20225, 6, 26, 9, 18]\n",
    "\n",
    "num_list.sort(reverse=True) # 매서드 inplace 연산으로 인해 원본 데이터를 변경\n",
    "print(num_list)"
   ]
  },
  {
   "cell_type": "code",
   "execution_count": null,
   "id": "49e2772e",
   "metadata": {},
   "outputs": [
    {
     "name": "stdout",
     "output_type": "stream",
     "text": [
      "[6, 9, 18, 26, 20225]\n",
      "[20225, 6, 26, 9, 18]\n"
     ]
    }
   ],
   "source": [
    "num_list2 = [20225, 6, 26, 9, 18]\n",
    "sorted(num_list2) # 내장 함수 inplace 연산 x, 원본 데이터를 변경x\n",
    "print(sorted(num_list2)) # 전자와 같이 사용을 하면 정렬이 됨\n",
    "print(num_list2)"
   ]
  },
  {
   "cell_type": "code",
   "execution_count": null,
   "id": "b670f811",
   "metadata": {},
   "outputs": [
    {
     "ename": "TypeError",
     "evalue": "'tuple' object does not support item assignment",
     "output_type": "error",
     "traceback": [
      "\u001b[31m---------------------------------------------------------------------------\u001b[39m",
      "\u001b[31mTypeError\u001b[39m                                 Traceback (most recent call last)",
      "\u001b[36mCell\u001b[39m\u001b[36m \u001b[39m\u001b[32mIn[7]\u001b[39m\u001b[32m, line 4\u001b[39m\n\u001b[32m      1\u001b[39m \u001b[38;5;66;03m# Tuple\u001b[39;00m\n\u001b[32m      2\u001b[39m anything = (\u001b[32m2026\u001b[39m, \u001b[33m'\u001b[39m\u001b[33mSKN\u001b[39m\u001b[33m'\u001b[39m, \u001b[32m17\u001b[39m, \u001b[32m3.14\u001b[39m, [\u001b[33m'\u001b[39m\u001b[33mh\u001b[39m\u001b[33m'\u001b[39m, \u001b[33m'\u001b[39m\u001b[33me\u001b[39m\u001b[33m'\u001b[39m, \u001b[33m'\u001b[39m\u001b[33ml\u001b[39m\u001b[33m'\u001b[39m, \u001b[33m'\u001b[39m\u001b[33ml\u001b[39m\u001b[33m'\u001b[39m, \u001b[33m'\u001b[39m\u001b[33mo\u001b[39m\u001b[33m'\u001b[39m])\n\u001b[32m----> \u001b[39m\u001b[32m4\u001b[39m \u001b[43manything\u001b[49m\u001b[43m[\u001b[49m\u001b[32;43m0\u001b[39;49m\u001b[43m]\u001b[49m = \u001b[32m2025\u001b[39m\n",
      "\u001b[31mTypeError\u001b[39m: 'tuple' object does not support item assignment"
     ]
    }
   ],
   "source": [
    "# Tuple\n",
    "# anything = (2026, 'SKN', 17, 3.14, ['h', 'e', 'l', 'l', 'o'])\n",
    "\n",
    "# anything[0] = 2025"
   ]
  },
  {
   "cell_type": "code",
   "execution_count": 9,
   "id": "7d430e17",
   "metadata": {},
   "outputs": [
    {
     "data": {
      "text/plain": [
       "(2025, 'SKN', 17, 3.14, ['h', 'e', 'l', 'l', 'o'])"
      ]
     },
     "execution_count": 9,
     "metadata": {},
     "output_type": "execute_result"
    }
   ],
   "source": [
    "anything = (2025, 'SKN', 17, 3.14, ['h', 'e', 'l', 'l', 'o'])\n",
    "\n",
    "anything"
   ]
  },
  {
   "cell_type": "code",
   "execution_count": 10,
   "id": "5e657b53",
   "metadata": {},
   "outputs": [
    {
     "data": {
      "text/plain": [
       "(2025, 'SKN', 17, 3.14, ['h', 'e', 'l', 'l', '!'])"
      ]
     },
     "execution_count": 10,
     "metadata": {},
     "output_type": "execute_result"
    }
   ],
   "source": [
    "anything[-1][-1] = '!'\n",
    "\n",
    "anything"
   ]
  },
  {
   "cell_type": "markdown",
   "id": "468b5691",
   "metadata": {},
   "source": [
    "### **문제 1**\n",
    "\n",
    "아래 조건에 맞게 리스트를 선언하고 결과를 출력하세요.\n",
    "\n",
    "1. `fruits`라는 리스트에 다음 요소를 저장하세요.\n",
    "    - `'apple', 'banana', 'cherry'`.\n",
    "2. `print()`를 사용해 `fruits`의 첫 번째 요소와 세 번째 요소를 출력하세요."
   ]
  },
  {
   "cell_type": "code",
   "execution_count": 2,
   "id": "aee96eda",
   "metadata": {},
   "outputs": [
    {
     "name": "stdout",
     "output_type": "stream",
     "text": [
      "apple cherry\n"
     ]
    }
   ],
   "source": [
    "fruits = ['apple', 'banana', 'cherry']\n",
    "print(fruits[0], fruits[2])"
   ]
  },
  {
   "cell_type": "markdown",
   "id": "7abaa30f",
   "metadata": {},
   "source": [
    "### **문제 2**\n",
    "\n",
    "다음 조건을 만족하는 리스트를 만드세요.\n",
    "\n",
    "1. `numbers`라는 리스트를 선언하고 숫자 `1`부터 `5`까지 저장하세요.\n",
    "2. 이 리스트의 **길이**를 출력하세요."
   ]
  },
  {
   "cell_type": "code",
   "execution_count": 3,
   "id": "046af4e9",
   "metadata": {},
   "outputs": [
    {
     "name": "stdout",
     "output_type": "stream",
     "text": [
      "5\n"
     ]
    }
   ],
   "source": [
    "numbers = [1, 2, 3, 4, 5]\n",
    "print(len(numbers))"
   ]
  },
  {
   "cell_type": "markdown",
   "id": "ac9eb0b0",
   "metadata": {},
   "source": [
    "### **문제 3**\n",
    "\n",
    "다음 조건에 맞게 리스트를 조작하세요.\n",
    "\n",
    "1. `animals` 리스트에 `'cat', 'dog', 'bird'`를 저장하세요.\n",
    "2. 이 리스트의 마지막에 `'fish'`를 추가하고, 리스트를 출력하세요."
   ]
  },
  {
   "cell_type": "code",
   "execution_count": 5,
   "id": "5d4e7ece",
   "metadata": {},
   "outputs": [
    {
     "name": "stdout",
     "output_type": "stream",
     "text": [
      "['cat', 'dog', 'bird', 'fish']\n"
     ]
    }
   ],
   "source": [
    "animals = ['cat', 'dog', 'bird']\n",
    "animals.insert(3, 'fish')\n",
    "print(animals)"
   ]
  },
  {
   "cell_type": "markdown",
   "id": "cb6a923d",
   "metadata": {},
   "source": [
    "### **문제 4**\n",
    "\n",
    "아래 조건에 맞는 프로그램을 작성하세요.\n",
    "\n",
    "1. `numbers` 리스트에 숫자 `3, 6, 9`를 저장하세요.\n",
    "2. 리스트의 첫 번째 요소를 **2배**로 만들어 다시 저장하고, 리스트를 출력하세요."
   ]
  },
  {
   "cell_type": "code",
   "execution_count": 9,
   "id": "d054d2a9",
   "metadata": {},
   "outputs": [
    {
     "name": "stdout",
     "output_type": "stream",
     "text": [
      "[6, 6, 9]\n"
     ]
    }
   ],
   "source": [
    "numbers = [3, 6, 9]\n",
    "numbers[0] = 6\n",
    "print(numbers)"
   ]
  },
  {
   "cell_type": "markdown",
   "id": "a39f479c",
   "metadata": {},
   "source": [
    "### **문제 5**\n",
    "\n",
    "아래 문자열을 리스트로 변환하고 결과를 출력하세요.\n",
    "\n",
    "1. 문자열 `'Python-is-fun'`을 `'-'`를 기준으로 분리하여 리스트로 만드세요.\n",
    "2. 결과 리스트를 출력하세요."
   ]
  },
  {
   "cell_type": "code",
   "execution_count": 11,
   "id": "5401e4c2",
   "metadata": {},
   "outputs": [
    {
     "name": "stdout",
     "output_type": "stream",
     "text": [
      "['Python', 'is', 'fun']\n"
     ]
    }
   ],
   "source": [
    "sent = 'Python-is-fun'\n",
    "print(sent.split('-'))"
   ]
  },
  {
   "cell_type": "markdown",
   "id": "6c3d09b7",
   "metadata": {},
   "source": [
    "### **문제 6**\n",
    "\n",
    "다음 조건에 맞게 **튜플**을 선언하고 활용하세요.\n",
    "\n",
    "1. `my_tuple`이라는 이름으로 숫자 `10, 20, 30`을 가진 튜플을 선언하세요.\n",
    "2. `my_tuple`의 두 번째 요소를 출력하세요."
   ]
  },
  {
   "cell_type": "code",
   "execution_count": 12,
   "id": "73157d49",
   "metadata": {},
   "outputs": [
    {
     "data": {
      "text/plain": [
       "30"
      ]
     },
     "execution_count": 12,
     "metadata": {},
     "output_type": "execute_result"
    }
   ],
   "source": [
    "my_tuple = (10, 20, 30)\n",
    "my_tuple[2]"
   ]
  },
  {
   "cell_type": "markdown",
   "id": "4db3bc0e",
   "metadata": {},
   "source": [
    "### **문제 7**\n",
    "\n",
    "아래 조건에 맞게 리스트의 요소를 수정하세요.\n",
    "\n",
    "1. `colors` 리스트에 `'red', 'blue', 'green'`을 저장하세요.\n",
    "2. `'blue'`를 `'yellow'`로 변경하고 리스트를 출력하세요."
   ]
  },
  {
   "cell_type": "code",
   "execution_count": 13,
   "id": "00da714f",
   "metadata": {},
   "outputs": [
    {
     "name": "stdout",
     "output_type": "stream",
     "text": [
      "['red', 'yellow', 'green']\n"
     ]
    }
   ],
   "source": [
    "colors = ['red', 'blue', 'green']\n",
    "colors[1] = 'yellow'\n",
    "print(colors)"
   ]
  },
  {
   "cell_type": "markdown",
   "id": "ab248201",
   "metadata": {},
   "source": [
    "### **문제 8**\n",
    "\n",
    "아래 조건에 맞는 리스트 내포를 작성하세요.\n",
    "\n",
    "1. 숫자 `1`부터 `10`까지 중에서 **짝수만**을 추출해 새로운 리스트에 저장하세요.\n",
    "2. 리스트를 출력하세요."
   ]
  },
  {
   "cell_type": "code",
   "execution_count": 12,
   "id": "ef054b74",
   "metadata": {},
   "outputs": [
    {
     "data": {
      "text/plain": [
       "[2, 4, 6, 8, 10]"
      ]
     },
     "execution_count": 12,
     "metadata": {},
     "output_type": "execute_result"
    }
   ],
   "source": [
    "lst =[i for i in range(1, 11) if i % 2 == 0]\n",
    "lst\n",
    "\n",
    "# for i in range(1, 11):\n",
    "#     if i % 2 == 0:\n",
    "#         lst = i\n",
    "#         print(lst)"
   ]
  },
  {
   "cell_type": "markdown",
   "id": "134ab036",
   "metadata": {},
   "source": [
    "### **문제 9**\n",
    "\n",
    "아래 조건에 맞게 리스트와 문자열을 활용하세요.\n",
    "\n",
    "1. 리스트 `words`에 `'Life', 'is', 'too', 'short'`를 저장하세요.\n",
    "2. 리스트의 요소를 공백으로 이어붙여 문자열 `'Life is too short'`를 출력하세요."
   ]
  },
  {
   "cell_type": "code",
   "execution_count": null,
   "id": "cdb95a1f",
   "metadata": {},
   "outputs": [
    {
     "name": "stdout",
     "output_type": "stream",
     "text": [
      "Life is too short \n",
      "Life is too short\n"
     ]
    }
   ],
   "source": [
    "# f-string 사용\n",
    "words = ['Life', 'is', 'too', 'short']\n",
    "print(f\"{words[0]} {words[1]} {words[2]} {words[3]} \")\n",
    "\n",
    "# .join() 함수 이용\n",
    "res = ' '.join(words)\n",
    "print(res)"
   ]
  },
  {
   "cell_type": "markdown",
   "id": "b01aba9f",
   "metadata": {},
   "source": [
    "### **문제 10**\n",
    "\n",
    "아래 조건에 맞는 프로그램을 작성하세요.\n",
    "\n",
    "1. 리스트 `numbers`에 숫자 `1, 2, 3, 4, 5`를 저장하세요.\n",
    "2. 슬라이싱을 이용하여 다음을 수행하세요:\n",
    "    - 리스트의 **처음 3개의 요소**를 출력하세요.\n",
    "    - 리스트의 **마지막 2개의 요소**를 출력하세요.\n",
    "    - 리스트의 **모든 요소를 역순**으로 출력하세요."
   ]
  },
  {
   "cell_type": "code",
   "execution_count": null,
   "id": "b233d54a",
   "metadata": {},
   "outputs": [
    {
     "name": "stdout",
     "output_type": "stream",
     "text": [
      "[1, 2, 3]\n",
      "[4, 5]\n",
      "[5, 4, 3, 2, 1]\n"
     ]
    }
   ],
   "source": [
    "numbers = [1, 2, 3, 4, 5]\n",
    "print(numbers[:3])\n",
    "print(numbers[3:])\n",
    "numbers.reverse()\n",
    "print(numbers)"
   ]
  },
  {
   "cell_type": "markdown",
   "id": "c357fd32",
   "metadata": {},
   "source": [
    "### **문제 1**\n",
    "\n",
    "다음 조건에 맞는 **셋**을 생성하세요.\n",
    "\n",
    "1. `fruits`라는 셋을 선언하고 `'apple', 'banana', 'cherry'`를 추가하세요.\n",
    "2. `print()`를 사용하여 `fruits`를 출력하세요."
   ]
  },
  {
   "cell_type": "code",
   "execution_count": 16,
   "id": "83af0c57",
   "metadata": {},
   "outputs": [
    {
     "name": "stdout",
     "output_type": "stream",
     "text": [
      "{'apple', 'cherry', 'banana'}\n"
     ]
    }
   ],
   "source": [
    "fruits = {'apple', 'banana'}\n",
    "fruits.add('cherry')\n",
    "print(fruits)"
   ]
  },
  {
   "cell_type": "markdown",
   "id": "b8ee630d",
   "metadata": {},
   "source": [
    "### **문제 2**\n",
    "\n",
    "아래 조건에 따라 셋의 **특정 요소를 제거**하고 결과를 출력하세요.\n",
    "\n",
    "1. `animals`라는 셋에 `'cat', 'dog', 'bird', 'fish'`를 저장하세요.\n",
    "2. `'bird'`를 제거한 후, `print()`를 사용해 남은 요소를 출력하세요."
   ]
  },
  {
   "cell_type": "code",
   "execution_count": 18,
   "id": "df9737f3",
   "metadata": {},
   "outputs": [
    {
     "name": "stdout",
     "output_type": "stream",
     "text": [
      "{'cat', 'dog', 'fish'}\n"
     ]
    }
   ],
   "source": [
    "animals = {'cat', 'dog', 'bird', 'fish'}\n",
    "animals.remove('bird')\n",
    "print(animals)"
   ]
  },
  {
   "cell_type": "markdown",
   "id": "dde20585",
   "metadata": {},
   "source": [
    "### **문제 3**\n",
    "\n",
    "다음 조건에 맞게 **집합 연산**을 수행하세요.\n",
    "\n",
    "1. `set1`에 `{1, 2, 3}`을 저장하고, `set2`에 `{3, 4, 5}`를 저장하세요.\n",
    "2. `set1`과 `set2`의 **합집합**을 구해서 출력하세요."
   ]
  },
  {
   "cell_type": "code",
   "execution_count": 19,
   "id": "6c9c558c",
   "metadata": {},
   "outputs": [
    {
     "name": "stdout",
     "output_type": "stream",
     "text": [
      "{1, 2, 3, 4, 5}\n"
     ]
    }
   ],
   "source": [
    "set1 = {1, 2, 3}\n",
    "set2 = {3, 4, 5}\n",
    "print(set1 | set2)"
   ]
  },
  {
   "cell_type": "markdown",
   "id": "1c14f06b",
   "metadata": {},
   "source": [
    "### **문제 4**\n",
    "\n",
    "아래 조건을 만족하는 딕셔너리를 생성하세요.\n",
    "\n",
    "1. `student`라는 이름의 딕셔너리를 선언하고 다음 키-값 쌍을 추가하세요:\n",
    "    - `'name'`: `'John'`\n",
    "    - `'age'`: `20`\n",
    "    - `'major'`: `'Computer Science'`\n",
    "2. `'age'`의 값을 출력하세요."
   ]
  },
  {
   "cell_type": "code",
   "execution_count": 22,
   "id": "400c676b",
   "metadata": {},
   "outputs": [
    {
     "name": "stdout",
     "output_type": "stream",
     "text": [
      "20\n"
     ]
    }
   ],
   "source": [
    "student = {'name': 'John', 'age': '20', 'major':'Computer Science'}\n",
    "print(student['age'])"
   ]
  },
  {
   "cell_type": "markdown",
   "id": "2bca550d",
   "metadata": {},
   "source": [
    "### **문제 5**\n",
    "\n",
    "아래 조건에 맞게 딕셔너리를 수정하세요.\n",
    "\n",
    "1. `scores`라는 딕셔너리에 `'math': 80, 'english': 90`을 저장하세요.\n",
    "2. `'math'`의 값을 `95`로 변경하고 딕셔너리를 출력하세요."
   ]
  },
  {
   "cell_type": "code",
   "execution_count": 23,
   "id": "c2f89956",
   "metadata": {},
   "outputs": [
    {
     "name": "stdout",
     "output_type": "stream",
     "text": [
      "{'math': 95, 'english': 90}\n"
     ]
    }
   ],
   "source": [
    "scores = {'math':80, 'english':90}\n",
    "scores['math'] = 95\n",
    "print(scores)"
   ]
  },
  {
   "cell_type": "markdown",
   "id": "5a8f4264",
   "metadata": {},
   "source": [
    "### **문제 6**\n",
    "\n",
    "다음 조건에 맞게 **셋의 메서드**를 활용하세요.\n",
    "\n",
    "1. `colors1`에 `'red', 'blue', 'green'`을 저장하세요.\n",
    "2. `colors2`에 `'blue', 'yellow', 'pink'`를 저장하세요.\n",
    "3. 두 셋의 **교집합**을 구하여 출력하세요."
   ]
  },
  {
   "cell_type": "code",
   "execution_count": 24,
   "id": "623a3db1",
   "metadata": {},
   "outputs": [
    {
     "name": "stdout",
     "output_type": "stream",
     "text": [
      "{'blue'}\n"
     ]
    }
   ],
   "source": [
    "colors1 = {'red', 'blue', 'green'}\n",
    "colors2 = {'blue', 'yellow', 'pink'}\n",
    "print(colors1 & colors2)"
   ]
  },
  {
   "cell_type": "markdown",
   "id": "e0ff44f5",
   "metadata": {},
   "source": [
    "### **문제 7**\n",
    "\n",
    "다음 조건에 \n",
    "\n",
    "1. `info` 딕셔너리에 `'name': 'Alice', 'age': 25, 'city': 'Seoul'`을 저장하세요.\n",
    "2. 메서드를 사용해 딕셔너리의 모든 키를 출력하세요.\n",
    "3. 메서드를 사용해 딕셔너리의 모든 값을 출력하세요."
   ]
  },
  {
   "cell_type": "code",
   "execution_count": 26,
   "id": "bb1ec5cb",
   "metadata": {},
   "outputs": [
    {
     "name": "stdout",
     "output_type": "stream",
     "text": [
      "dict_keys(['name', 'age', 'city'])\n",
      "dict_values(['Alice', 25, 'Seoul'])\n"
     ]
    }
   ],
   "source": [
    "info = {'name':'Alice', 'age': 25, 'city': 'Seoul'}\n",
    "print(info.keys())\n",
    "print(info.values())"
   ]
  },
  {
   "cell_type": "markdown",
   "id": "7efacc23",
   "metadata": {},
   "source": [
    "### **문제 8**\n",
    "\n",
    "다음 조건에 맞게 딕셔너리를 조작하세요.\n",
    "\n",
    "1. `students` 딕셔너리에 `'student1': 85, 'student2': 90, 'student3': 95`를 저장하세요.\n",
    "2. `pop()` 메서드를 사용해 `'student2'`의 값을 제거하고, 제거된 값을 출력하세요."
   ]
  },
  {
   "cell_type": "code",
   "execution_count": 30,
   "id": "4135aca0",
   "metadata": {},
   "outputs": [
    {
     "name": "stdout",
     "output_type": "stream",
     "text": [
      "{'student1': 85, 'student3': 95}\n"
     ]
    }
   ],
   "source": [
    "students = {'student1': 85, 'student2': 90, 'student3':95}\n",
    "students.pop('student2')\n",
    "print(students)\n"
   ]
  },
  {
   "cell_type": "markdown",
   "id": "926c7ebd",
   "metadata": {},
   "source": [
    "### **문제 9**\n",
    "\n",
    "아래 조건에 맞는 **셋과 딕셔너리**를 사용하세요.\n",
    "\n",
    "1. `numbers`라는 셋에 `{1, 2, 3, 4, 5}`를 저장하세요.\n",
    "2. 딕셔너리 `squares`를 생성하고, 각 숫자를 키로, 숫자의 **제곱값**을 값으로 저장하세요.\n",
    "3. 딕셔너리를 출력하세요."
   ]
  },
  {
   "cell_type": "code",
   "execution_count": 49,
   "id": "08dc1fb0",
   "metadata": {},
   "outputs": [
    {
     "name": "stdout",
     "output_type": "stream",
     "text": [
      "{1: 1, 2: 4, 3: 9, 4: 16, 5: 25}\n"
     ]
    }
   ],
   "source": [
    "numbers = {1, 2, 3, 4, 5}\n",
    "\n",
    "# Solution1\n",
    "numbers = list(numbers)\n",
    "\n",
    "squares = {\n",
    "    numbers[0] : numbers[0]**2,\n",
    "    numbers[1] : numbers[1]**2,\n",
    "    numbers[2] : numbers[2]**2,\n",
    "    numbers[3] : numbers[3]**2,\n",
    "    numbers[4] : numbers[4]**2,\n",
    "}\n",
    "\n",
    "# Solution2-1\n",
    "# squares = {}\n",
    "# for i in numbers:\n",
    "#     squares[i] = i**2\n",
    "\n",
    "# Solution2-2\n",
    "# squares = {num : num**2 for num in numbers}\n",
    "\n",
    "print(squares)"
   ]
  },
  {
   "cell_type": "markdown",
   "id": "abea60b9",
   "metadata": {},
   "source": [
    "### **문제 10**\n",
    "\n",
    "다음 조건에 맞는 프로그램을 작성하세요.\n",
    "\n",
    "1. 두 셋 `A = {1, 2, 3, 4}`와 `B = {3, 4, 5, 6}`가 있습니다.\n",
    "2. `A`와 `B`의 **대칭 차집합**을 구하세요.\n",
    "3. 결과를 `print()`를 사용해 출력하세요."
   ]
  },
  {
   "cell_type": "code",
   "execution_count": 34,
   "id": "dacce391",
   "metadata": {},
   "outputs": [
    {
     "name": "stdout",
     "output_type": "stream",
     "text": [
      "{1, 2, 5, 6}\n"
     ]
    }
   ],
   "source": [
    "A = {1, 2, 3, 4}\n",
    "B = {3, 4, 5, 6}\n",
    "print(A^B)"
   ]
  }
 ],
 "metadata": {
  "kernelspec": {
   "display_name": "pystudy_env",
   "language": "python",
   "name": "python3"
  },
  "language_info": {
   "codemirror_mode": {
    "name": "ipython",
    "version": 3
   },
   "file_extension": ".py",
   "mimetype": "text/x-python",
   "name": "python",
   "nbconvert_exporter": "python",
   "pygments_lexer": "ipython3",
   "version": "3.12.11"
  }
 },
 "nbformat": 4,
 "nbformat_minor": 5
}

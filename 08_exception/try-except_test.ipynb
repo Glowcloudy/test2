{
 "cells": [
  {
   "cell_type": "markdown",
   "id": "9a970840",
   "metadata": {},
   "source": [
    "### **문제 1: 모든 예외 처리**\n",
    "\n",
    "다람쥐는 파일에서 데이터를 읽으려고 하지만, 파일이 없을 경우 프로그램이 중단되지 않도록 처리하고 싶습니다.\n",
    "\n",
    "1. `data.txt` 파일을 읽으려고 시도하세요.\n",
    "2. 파일이 없을 경우, `\"파일이 존재하지 않습니다.\"`를 출력하세요.\n",
    "3. 파일이 존재하면 파일 내용을 출력하세요."
   ]
  },
  {
   "cell_type": "code",
   "execution_count": 10,
   "id": "8e6e4d90",
   "metadata": {},
   "outputs": [
    {
     "name": "stdout",
     "output_type": "stream",
     "text": [
      "파일이 존재 하지 않습니다.\n"
     ]
    }
   ],
   "source": [
    "try:\n",
    "    data_file = open('data.txt', 'r', encoding='utf-8')\n",
    "    file = data_file.readline()\n",
    "except:    \n",
    "    print('파일이 존재 하지 않습니다.')"
   ]
  },
  {
   "cell_type": "markdown",
   "id": "1cfc2ad9",
   "metadata": {},
   "source": [
    "### **문제 2: 특정 예외 처리**\n",
    "\n",
    "다람쥐는 사용자에게 나이를 입력받아 성인인지 확인하려고 합니다.\n",
    "\n",
    "1. 사용자로부터 나이를 입력받아 정수로 변환하세요.\n",
    "2. 입력값이 숫자가 아닐 경우, `\"숫자를 입력해야 합니다.\"`를 출력하세요.\n",
    "3. 숫자가 올바르게 입력되면 나이가 19 이상인지 확인하고, 19 이상이면 `\"성인입니다.\"`, 그렇지 않으면 `\"미성년자입니다.\"`를 출력하세요."
   ]
  },
  {
   "cell_type": "code",
   "execution_count": 55,
   "id": "dba732ca",
   "metadata": {},
   "outputs": [
    {
     "name": "stdout",
     "output_type": "stream",
     "text": [
      "오류 발생 숫자를 입력해야 합니다.\n"
     ]
    }
   ],
   "source": [
    "user_age = input('나이를 입력하세요: ')\n",
    "\n",
    "try:\n",
    "    age = int(user_age)\n",
    "    if age >= 19:\n",
    "        print('성인입니다.')\n",
    "    elif int(age) < 18:\n",
    "        print('미성년자입니다.')\n",
    "except ValueError:\n",
    "    print(f'오류 발생 숫자를 입력해야 합니다.')\n"
   ]
  },
  {
   "cell_type": "markdown",
   "id": "d1704242",
   "metadata": {},
   "source": [
    "### **문제 3: 특수 예외 상황과 오류 변수 사용**\n",
    "\n",
    "다람쥐는 숫자 두 개를 입력받아 나누기를 수행하려고 합니다.\n",
    "\n",
    "1. 사용자로부터 두 숫자를 입력받아 나누기를 수행하세요.\n",
    "2. 첫 번째 숫자가 0으로 나누기를 시도하면 `\"0으로 나눌 수 없습니다.\"`를 출력하세요.\n",
    "3. 입력값이 숫자가 아니면 `\"숫자를 입력해야 합니다.\"`를 출력하세요.\n",
    "4. 오류 메시지를 출력할 때 발생한 오류 내용을 함께 출력하세요."
   ]
  },
  {
   "cell_type": "code",
   "execution_count": 44,
   "id": "4ebb3420",
   "metadata": {},
   "outputs": [
    {
     "name": "stdout",
     "output_type": "stream",
     "text": [
      "0으로 나눌 수 없습니다.\n"
     ]
    }
   ],
   "source": [
    "num1 = input('숫자를 입력히세요: ')\n",
    "num2 = input('숫자를 입력하세요: ')\n",
    "\n",
    "try:\n",
    "    print(int(num1) / int(num2))\n",
    "except ZeroDivisionError:\n",
    "    print('0으로 나눌 수 없습니다.')\n",
    "except ValueError:\n",
    "        print('숫자를 입력해야 합니다.')"
   ]
  },
  {
   "cell_type": "markdown",
   "id": "0e3545fd",
   "metadata": {},
   "source": [
    "### **문제 4: finally 블럭**\n",
    "\n",
    "다람쥐는 프로그램 실행 후 파일 자원을 반드시 정리해야 합니다.\n",
    "\n",
    "1. `log.txt` 파일을 읽으려고 시도하세요.\n",
    "2. 파일을 여는 중 예외가 발생할 경우, `\"파일을 열 수 없습니다.\"`를 출력하세요.\n",
    "3. 예외 발생 여부와 상관없이 파일 자원을 정리하는 메시지 `\"파일 자원 정리 완료\"`를 출력하세요."
   ]
  },
  {
   "cell_type": "code",
   "execution_count": 28,
   "id": "042f1a64",
   "metadata": {},
   "outputs": [
    {
     "name": "stdout",
     "output_type": "stream",
     "text": [
      "파일을 열 수 없습니다.\n",
      "파일 자원 정리완료\n"
     ]
    }
   ],
   "source": [
    "try:\n",
    "    file = open('log.txt', 'r', encoding='utf-8')\n",
    "    read_file = file.readline()\n",
    "    file.close()\n",
    "except:    \n",
    "    print('파일을 열 수 없습니다.')\n",
    "finally:\n",
    "    print('파일 자원 정리완료')"
   ]
  },
  {
   "cell_type": "markdown",
   "id": "73457828",
   "metadata": {},
   "source": [
    "### **문제 5: try-else 블럭**\n",
    "\n",
    "다람쥐는 사용자로부터 숫자를 입력받아 2로 나눈 결과를 출력하려고 합니다.\n",
    "\n",
    "1. 사용자로부터 숫자를 입력받아 정수로 변환하세요.\n",
    "2. 입력값이 숫자가 아닐 경우 `\"숫자를 입력해야 합니다.\"`를 출력하세요.\n",
    "3. 숫자가 올바르게 입력되면 입력값을 2로 나눈 결과를 출력하세요."
   ]
  },
  {
   "cell_type": "code",
   "execution_count": 46,
   "id": "55df5055",
   "metadata": {},
   "outputs": [
    {
     "name": "stdout",
     "output_type": "stream",
     "text": [
      "숫자를 입력해야 합니다.\n"
     ]
    }
   ],
   "source": [
    "num1 = input('숫자를 입력하세요: ')\n",
    "num2 = input('숫자를 입력하세요: ')\n",
    "\n",
    "try:\n",
    "    div = int(num1)/int(num2)\n",
    "except:\n",
    "    print(\"숫자를 입력해야 합니다.\")\n",
    "else:\n",
    "    print(div)"
   ]
  },
  {
   "cell_type": "code",
   "execution_count": null,
   "id": "9bfe85af",
   "metadata": {},
   "outputs": [],
   "source": []
  }
 ],
 "metadata": {
  "kernelspec": {
   "display_name": "pystudy_env",
   "language": "python",
   "name": "python3"
  },
  "language_info": {
   "codemirror_mode": {
    "name": "ipython",
    "version": 3
   },
   "file_extension": ".py",
   "mimetype": "text/x-python",
   "name": "python",
   "nbconvert_exporter": "python",
   "pygments_lexer": "ipython3",
   "version": "3.12.11"
  }
 },
 "nbformat": 4,
 "nbformat_minor": 5
}

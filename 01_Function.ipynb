{
 "cells": [
  {
   "cell_type": "markdown",
   "id": "bee5f139-ff0c-4928-b8d6-9e705be22317",
   "metadata": {},
   "source": [
    "# 함수"
   ]
  },
  {
   "cell_type": "code",
   "execution_count": 12,
   "id": "2266910d-5ef0-4fa5-b0de-85b3971bb9f4",
   "metadata": {},
   "outputs": [],
   "source": [
    "# No parameter, No return value\n",
    "def print_greeting():\n",
    "    print('좋은 아침입니다. 오늘은 금요일!!!')\n",
    "    # return\n",
    "    # print('좋은 아침입니다. 오늘은 금요일!!!')"
   ]
  },
  {
   "cell_type": "code",
   "execution_count": 13,
   "id": "33947284-bfc4-4c6e-bc7a-22f5485e506a",
   "metadata": {},
   "outputs": [
    {
     "name": "stdout",
     "output_type": "stream",
     "text": [
      "좋은 아침입니다. 오늘은 금요일!!!\n",
      "None\n"
     ]
    }
   ],
   "source": [
    "res = print_greeting()\n",
    "print(res)"
   ]
  },
  {
   "cell_type": "markdown",
   "id": "a9f0bd1f-bfbf-4276-8aba-a8631c7de435",
   "metadata": {},
   "source": [
    "- return 키워드를 만나면 함수 호출 중단하고 호출 위치로 돌아감\n",
    "- return 뒤에 반환값을 쓰지 않으면 None을 반환\n",
    "- return을 쓰지 않아도 묵시적으로 'return'이 존재 함. 즉 안써도 문제 없음"
   ]
  },
  {
   "cell_type": "code",
   "execution_count": 20,
   "id": "58c3072d-be41-42d2-a6ce-7d07168ddf54",
   "metadata": {},
   "outputs": [],
   "source": [
    "# No parameter, yes return value\n",
    "# return value는 여러개를 , 로 나열해서 사용 가능\n",
    "def return_greeting():\n",
    "    return '좋은 아침입니다. 오늘은 금요일!!!', 1, ['hi'], (1, 2, 3)"
   ]
  },
  {
   "cell_type": "code",
   "execution_count": 19,
   "id": "26d465d1-fe5c-4f66-bd4c-d3a5981fbdd8",
   "metadata": {},
   "outputs": [
    {
     "name": "stdout",
     "output_type": "stream",
     "text": [
      "('좋은 아침입니다. 오늘은 금요일!!!', 1, ['hi'], (1, 2, 3))\n",
      "끝\n"
     ]
    }
   ],
   "source": [
    "res = return_greeting()\n",
    "print(res)\n",
    "\n",
    "print('끝')"
   ]
  },
  {
   "cell_type": "code",
   "execution_count": 31,
   "id": "687021c4-ea31-4c14-847b-7fd6fcd5328f",
   "metadata": {},
   "outputs": [],
   "source": [
    "# yes parameter, no return value\n",
    "# {이름}님, 오늘 점심은 뭘 먹어볼까요?\n",
    "\n",
    "def lunch_menu(name):\n",
    "    print(f'{name}님, 오늘 점심은 뭘 먹어볼까요?')"
   ]
  },
  {
   "cell_type": "code",
   "execution_count": 32,
   "id": "a8298ef9-3fd2-4568-9685-e9be4cc0bade",
   "metadata": {},
   "outputs": [
    {
     "name": "stdin",
     "output_type": "stream",
     "text": [
      "이름을 입력하세요:  길동\n"
     ]
    },
    {
     "name": "stdout",
     "output_type": "stream",
     "text": [
      "길동님, 오늘 점심은 뭘 먹어볼까요?\n"
     ]
    }
   ],
   "source": [
    "lunch_menu(input('이름을 입력하세요: '))"
   ]
  },
  {
   "cell_type": "code",
   "execution_count": 29,
   "id": "6b7e1028-eb05-4549-bf54-d358f7781170",
   "metadata": {},
   "outputs": [],
   "source": [
    "# yes parameter, yes return value\n",
    "# {이름}님, 오늘 점심은 뭘 먹어볼까요?\n",
    "\n",
    "def return_name_lunch(name, lunch_menu):\n",
    "    return f'{name}님, 오늘 점심은 {lunch_menu} 먹어볼까요?'"
   ]
  },
  {
   "cell_type": "code",
   "execution_count": 38,
   "id": "58e504ac-0e5f-40d0-a392-b022462135f9",
   "metadata": {},
   "outputs": [
    {
     "name": "stdout",
     "output_type": "stream",
     "text": [
      "길동님, 오늘 점심은 샐러드 먹어볼까요?\n",
      "길동님, 오늘 점심은 샐러드 먹어볼까요?\n",
      "길동님, 오늘 점심은 샐러드 먹어볼까요?\n",
      "샐러드님, 오늘 점심은 길동 먹어볼까요?\n",
      "끝\n"
     ]
    }
   ],
   "source": [
    "print(return_name_lunch('길동', '샐러드')) # 위치 인자\n",
    "print(return_name_lunch(name='길동', lunch_menu= '샐러드')) # 키워드 인자\n",
    "print(return_name_lunch(lunch_menu='샐러드', name ='길동'))\n",
    "print(return_name_lunch('샐러드', '길동'))\n",
    "\n",
    "print('끝')"
   ]
  },
  {
   "cell_type": "code",
   "execution_count": 40,
   "id": "4a158f90-8ff4-4f41-a37b-b6877526515f",
   "metadata": {},
   "outputs": [
    {
     "name": "stdout",
     "output_type": "stream",
     "text": [
      "다람쥐님, 오늘 점심은 샐러드 먹어볼까요?\n"
     ]
    },
    {
     "ename": "TypeError",
     "evalue": "return_name_lunch() got multiple values for argument 'name'",
     "output_type": "error",
     "traceback": [
      "\u001b[31m---------------------------------------------------------------------------\u001b[39m",
      "\u001b[31mTypeError\u001b[39m                                 Traceback (most recent call last)",
      "\u001b[36mCell\u001b[39m\u001b[36m \u001b[39m\u001b[32mIn[40]\u001b[39m\u001b[32m, line 3\u001b[39m\n\u001b[32m      1\u001b[39m \u001b[38;5;28mprint\u001b[39m(return_name_lunch(\u001b[33m'\u001b[39m\u001b[33m다람쥐\u001b[39m\u001b[33m'\u001b[39m, lunch_menu =\u001b[33m'\u001b[39m\u001b[33m샐러드\u001b[39m\u001b[33m'\u001b[39m))\n\u001b[32m      2\u001b[39m \u001b[38;5;66;03m# print(return_name_lunch(name='다람쥐', '샐러드'))\u001b[39;00m\n\u001b[32m----> \u001b[39m\u001b[32m3\u001b[39m \u001b[38;5;28mprint\u001b[39m(\u001b[43mreturn_name_lunch\u001b[49m\u001b[43m(\u001b[49m\u001b[33;43m'\u001b[39;49m\u001b[33;43m샐러드\u001b[39;49m\u001b[33;43m'\u001b[39;49m\u001b[43m,\u001b[49m\u001b[43m \u001b[49m\u001b[43mname\u001b[49m\u001b[43m \u001b[49m\u001b[43m=\u001b[49m\u001b[33;43m'\u001b[39;49m\u001b[33;43m다람쥐\u001b[39;49m\u001b[33;43m'\u001b[39;49m\u001b[43m)\u001b[49m)\n",
      "\u001b[31mTypeError\u001b[39m: return_name_lunch() got multiple values for argument 'name'"
     ]
    }
   ],
   "source": [
    "print(return_name_lunch('다람쥐', lunch_menu ='샐러드'))\n",
    "# print(return_name_lunch(name='다람쥐', '샐러드'))\n",
    "# print(return_name_lunch('샐러드', name ='다람쥐'))  name에 '샐러드'와 '다람쥐'가 같은 위치에 들어감에 따라 에러 발생"
   ]
  },
  {
   "cell_type": "markdown",
   "id": "22cc3ca5-f5a7-4f80-a784-e05b131232c9",
   "metadata": {},
   "source": [
    "- 위치인자는 파라미터와 인자의 위치(순서)를 맟퉈서 값을 넣어준다.\n",
    "- 키워드인자는 파라미터와 인자 앞에 붙은 이름을 맟퉈서 값을 넣어준다.\n",
    "- 키워드인자는 이름으로 찾기 때문에 순서가 달라도 상관 없다.\n",
    "- 위치인자와 키워드인자는 함께 쓸 수 있지만, 키워드인자는 늘 위치인자의 뒤에 와야 한다."
   ]
  },
  {
   "cell_type": "code",
   "execution_count": 41,
   "id": "f5518cb2-e85a-458d-b785-ff0f77d1c7aa",
   "metadata": {},
   "outputs": [],
   "source": [
    "# parameter \n",
    "def print_cheerup(name = '길동'):\n",
    "    print(f'{name}님 힘내세요!!!!!!')"
   ]
  },
  {
   "cell_type": "code",
   "execution_count": 42,
   "id": "72a46b65-26e9-404e-b88b-74a1ae4eb62f",
   "metadata": {},
   "outputs": [
    {
     "name": "stdout",
     "output_type": "stream",
     "text": [
      "길동님 힘내세요!!!!!!\n"
     ]
    }
   ],
   "source": [
    "print_cheerup()"
   ]
  },
  {
   "cell_type": "markdown",
   "id": "223f413c-0d0b-4907-8965-325fb2352174",
   "metadata": {},
   "source": [
    "- 혼란의 시대"
   ]
  },
  {
   "cell_type": "code",
   "execution_count": 52,
   "id": "6d6cabfe-081b-458f-bafd-9493c64723fa",
   "metadata": {},
   "outputs": [],
   "source": [
    "def print_cheerup(user_name='길동'):\n",
    "    print(f'{name}님 힘내세요!!!!!!')"
   ]
  },
  {
   "cell_type": "code",
   "execution_count": 53,
   "id": "2fab6880-44a3-419d-b87e-e40170449086",
   "metadata": {},
   "outputs": [
    {
     "name": "stdout",
     "output_type": "stream",
     "text": [
      "다람쥐님 힘내세요!!!!!!\n"
     ]
    }
   ],
   "source": [
    "name = '다람쥐'\n",
    "\n",
    "print_cheerup(name)"
   ]
  },
  {
   "cell_type": "markdown",
   "id": "6950ead3-ad86-4312-8398-ac42f8535df2",
   "metadata": {},
   "source": [
    "- 패키징과 언패키징"
   ]
  },
  {
   "cell_type": "code",
   "execution_count": 62,
   "id": "3af862c9-ca73-4651-b8f4-51eb4a0ce46a",
   "metadata": {},
   "outputs": [],
   "source": [
    "def call_animals(*animals_args):\n",
    "    print(animals_args)\n",
    "\n",
    "    for animal in animals_args:\n",
    "        print(animal)"
   ]
  },
  {
   "cell_type": "code",
   "execution_count": 78,
   "id": "0cc1f086-fac2-4771-b256-ca6bbca65863",
   "metadata": {},
   "outputs": [],
   "source": [
    "def call_animals(boss, **animals_args):\n",
    "    print(boss, animals_args)\n",
    "\n",
    "    for animal in animals_args:\n",
    "        print(animal)"
   ]
  },
  {
   "cell_type": "code",
   "execution_count": 75,
   "id": "fd0620fe-c56c-4d43-9627-a1f261c2c8e5",
   "metadata": {},
   "outputs": [
    {
     "name": "stdout",
     "output_type": "stream",
     "text": [
      "다람쥐 ('호랑이', '여우', '늑대', '원숭이', '토끼')\n",
      "호랑이\n",
      "여우\n",
      "늑대\n",
      "원숭이\n",
      "토끼\n"
     ]
    }
   ],
   "source": [
    "call_animals('다람쥐', '호랑이', '여우', '늑대', '원숭이', '토끼')"
   ]
  },
  {
   "cell_type": "code",
   "execution_count": 79,
   "id": "72b4516c-7de2-42c2-830f-101733d7f7ba",
   "metadata": {},
   "outputs": [
    {
     "name": "stdout",
     "output_type": "stream",
     "text": [
      "다람쥐 {'animal': ['호랑이', '여우', '늑대', '원숭이', '토끼']}\n",
      "animal\n"
     ]
    }
   ],
   "source": [
    "call_animals('다람쥐', animal=['호랑이', '여우', '늑대', '원숭이', '토끼'])"
   ]
  },
  {
   "cell_type": "code",
   "execution_count": 81,
   "id": "9530b9cd-4e8a-45be-bc6f-3ca43b442d37",
   "metadata": {},
   "outputs": [
    {
     "data": {
      "text/plain": [
       "2089"
      ]
     },
     "execution_count": 81,
     "metadata": {},
     "output_type": "execute_result"
    }
   ],
   "source": [
    "# unpackaging\n",
    "def multi_sum(num1, num2, num3, num4, num5):\n",
    "    return num1 + num2 + num3 + num4 + num5\n",
    "\n",
    "numbers= [2025, 6, 27, 12 , 19]\n",
    "# multi_sum = (number[0], number[1], number[2], number[3], number[4]) 불~~~~~~~편\n",
    "multi_sum(*numbers)"
   ]
  },
  {
   "cell_type": "markdown",
   "id": "11adbc1e-6c25-4f07-8c8c-efc58e13c218",
   "metadata": {},
   "source": []
  },
  {
   "cell_type": "code",
   "execution_count": null,
   "id": "59e33bc4-713b-477d-87f1-08d3da1477ce",
   "metadata": {},
   "outputs": [],
   "source": []
  },
  {
   "cell_type": "markdown",
   "id": "985a2f28-4ec2-489d-a89c-2bb715d93717",
   "metadata": {},
   "source": []
  },
  {
   "cell_type": "code",
   "execution_count": null,
   "id": "df2240e1-a05c-48ec-9fe1-fb3602f1f365",
   "metadata": {},
   "outputs": [],
   "source": []
  },
  {
   "cell_type": "markdown",
   "id": "1988cae6-fa14-44e0-9c95-8e4113fe0744",
   "metadata": {},
   "source": []
  },
  {
   "cell_type": "code",
   "execution_count": null,
   "id": "7ac850fb-c938-45c9-9a79-16115eccf72b",
   "metadata": {},
   "outputs": [],
   "source": []
  },
  {
   "cell_type": "markdown",
   "id": "13f264dc-67f9-4020-a971-255e7ed6a7ee",
   "metadata": {},
   "source": []
  },
  {
   "cell_type": "code",
   "execution_count": null,
   "id": "18a07c1d-a201-46eb-898c-3ef93b3d583a",
   "metadata": {},
   "outputs": [],
   "source": []
  },
  {
   "cell_type": "markdown",
   "id": "4bf39b26-1a10-480b-9c77-a7df9bf5a18f",
   "metadata": {},
   "source": []
  },
  {
   "cell_type": "code",
   "execution_count": null,
   "id": "e752ff89-123e-4969-bf02-a8c006671b0f",
   "metadata": {},
   "outputs": [],
   "source": []
  },
  {
   "cell_type": "markdown",
   "id": "9f2b59d3-de55-4f41-9e61-261b279e30d8",
   "metadata": {},
   "source": []
  },
  {
   "cell_type": "code",
   "execution_count": null,
   "id": "2dbb702e-9be6-4125-91fb-c7815ef31973",
   "metadata": {},
   "outputs": [],
   "source": []
  },
  {
   "cell_type": "markdown",
   "id": "7c8c13e2-c86b-489d-a51c-42c68730e049",
   "metadata": {},
   "source": []
  },
  {
   "cell_type": "code",
   "execution_count": null,
   "id": "cdabfa32-b5cb-4b89-8ccd-29803f92888f",
   "metadata": {},
   "outputs": [],
   "source": []
  },
  {
   "cell_type": "markdown",
   "id": "b8aa2e34-66cb-4374-8af5-39cc386a86a0",
   "metadata": {},
   "source": []
  },
  {
   "cell_type": "code",
   "execution_count": null,
   "id": "8662b7aa-aa48-4c43-b3e8-96dff1e6e673",
   "metadata": {},
   "outputs": [],
   "source": []
  }
 ],
 "metadata": {
  "kernelspec": {
   "display_name": "pystudy_env",
   "language": "python",
   "name": "pystudy_env"
  },
  "language_info": {
   "codemirror_mode": {
    "name": "ipython",
    "version": 3
   },
   "file_extension": ".py",
   "mimetype": "text/x-python",
   "name": "python",
   "nbconvert_exporter": "python",
   "pygments_lexer": "ipython3",
   "version": "3.12.11"
  }
 },
 "nbformat": 4,
 "nbformat_minor": 5
}

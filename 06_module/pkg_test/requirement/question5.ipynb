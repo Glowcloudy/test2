{
 "cells": [
  {
   "cell_type": "markdown",
   "id": "95f5022c",
   "metadata": {},
   "source": [
    "### 문제 5: **requirements.txt 연습**\n",
    "\n",
    "다람쥐는 프로젝트의 종속성을 관리하기 위해 `requirements.txt`를 생성하려고 합니다.\n",
    "\n",
    "1. 현재 설치된 패키지 목록을 `requirements.txt` 파일에 저장하세요:\n",
    "    \n",
    "    ```bash\n",
    "    pip freeze > requirements.txt\n",
    "    ```\n",
    "    \n",
    "2. 새로운 가상 환경을 만들어 `requirements.txt`를 이용해 동일한 환경을 설정하세요:\n",
    "    \n",
    "    ```bash\n",
    "    python -m venv new_env\n",
    "    source new_env/bin/activate  # Windows에서는 new_env\\Scripts\\activate (source 붙이지 마세요!)\n",
    "    pip install -r requirements.txt\n",
    "    ```\n",
    "    \n",
    "3. 새롭게 생성한 가상 환경에서 직전 문제의 평균 계산 코드를 수행하세요."
   ]
  },
  {
   "cell_type": "code",
   "execution_count": 1,
   "id": "6b193f50",
   "metadata": {},
   "outputs": [],
   "source": [
    "!pip freeze > requirements.txt"
   ]
  },
  {
   "cell_type": "code",
   "execution_count": 1,
   "id": "2019d1bc",
   "metadata": {},
   "outputs": [
    {
     "name": "stdout",
     "output_type": "stream",
     "text": [
      "10.2\n"
     ]
    }
   ],
   "source": [
    "from numpy import mean\n",
    "\n",
    "lst = [10, 8, 25, 7, 1]\n",
    "\n",
    "print(mean(lst))"
   ]
  },
  {
   "cell_type": "code",
   "execution_count": null,
   "id": "26842afb",
   "metadata": {},
   "outputs": [],
   "source": []
  }
 ],
 "metadata": {
  "kernelspec": {
   "display_name": "pystudy_env",
   "language": "python",
   "name": "python3"
  },
  "language_info": {
   "codemirror_mode": {
    "name": "ipython",
    "version": 3
   },
   "file_extension": ".py",
   "mimetype": "text/x-python",
   "name": "python",
   "nbconvert_exporter": "python",
   "pygments_lexer": "ipython3",
   "version": "3.12.11"
  }
 },
 "nbformat": 4,
 "nbformat_minor": 5
}
